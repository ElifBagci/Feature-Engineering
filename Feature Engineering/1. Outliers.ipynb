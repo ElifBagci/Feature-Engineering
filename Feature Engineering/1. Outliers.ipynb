{
 "cells": [
  {
   "attachments": {},
   "cell_type": "markdown",
   "metadata": {},
   "source": [
    "# Outliers (Aykırı Değerler)"
   ]
  },
  {
   "attachments": {},
   "cell_type": "markdown",
   "metadata": {},
   "source": [
    "- Verideki genel eğilimin oldukça dışına çıkan değerlere aykırı değer denir. \n",
    "- Burada genel eğilim ve oldukça kelimelerinin nasıl tanımlandığını inceleyeceğiz"
   ]
  },
  {
   "cell_type": "code",
   "execution_count": 2,
   "metadata": {},
   "outputs": [],
   "source": [
    "# Aykırı değerler ne gibi problemlere sebep olabilir."
   ]
  },
  {
   "cell_type": "code",
   "execution_count": 17,
   "metadata": {},
   "outputs": [],
   "source": [
    "# Yukarıdaki grafikte görüldüğü üzere ilk grafikte aykırı değer bulunmamakta, ancak 2. grafikteki 3 aykırı değer, grafiğin trend yönünü değiştirmiştir."
   ]
  },
  {
   "attachments": {},
   "cell_type": "markdown",
   "metadata": {},
   "source": [
    "Aykırı değerin tespiti yapılırken 5 farklı yol izlenebilir; \n",
    "\n",
    "1. Sektör Bilgisi \n",
    "\n",
    "2. Standart Sapma yaklaşımı\n",
    "\n",
    "3. Z-skoru yaklaşımı\n",
    "\n",
    "4. Boxplot ( Interquartile range-IQR ) yaklaşımı\n",
    "\n",
    "5. LOF (Local Outlier Factor) Yöntemi (çok değişkenli olarak kullanılır)"
   ]
  },
  {
   "cell_type": "code",
   "execution_count": 18,
   "metadata": {},
   "outputs": [],
   "source": [
    "# Aykırı değerlerin belirlenmesindeki kritik nokta eşik değerin belirlenmesidir.\n",
    "# Biz bu yöntemler arasından box plot yöntemini kullanacağız. "
   ]
  },
  {
   "cell_type": "markdown",
   "metadata": {},
   "source": [
    "### Aykırı Değerleri Yakalama"
   ]
  },
  {
   "cell_type": "code",
   "execution_count": null,
   "metadata": {},
   "outputs": [],
   "source": [
    "# Bu bölümde aykırı değerleri yakalama işlemi yapacağız. Bunun için bir takım import işlemleri yapmamız gerekmekte;\n",
    "!pip install missingno\n",
    "import numpy as np\n",
    "import pandas as pd \n",
    "import seaborn as sns\n",
    "from matplotlib import pyplot as plt\n",
    "import missingno as msno\n",
    "from datetime import date\n",
    "from sklearn.metrics import accuracy_score\n",
    "from sklearn.model_selection import train_test_split\n",
    "from sklearn.neighbors import LocalOutlierFactor\n",
    "from sklearn.preprocessing import MinMaxScaler, LabelEncoder, StandardScaler, RobustScaler"
   ]
  },
  {
   "cell_type": "code",
   "execution_count": 20,
   "metadata": {},
   "outputs": [],
   "source": [
    "# Virgülden sonra 3 basamak görmek istediğimi ifade ediyoruz;\n",
    "\n",
    "pd.set_option('display.float_format', lambda x: '%.3f' % x)"
   ]
  },
  {
   "attachments": {},
   "cell_type": "markdown",
   "metadata": {},
   "source": [
    "Bu çalışmamızda küçük veri setinde çalışmamızı yapıp (titanic veriseti), daha sonrasında ise büyük veri setine (kaggle'da da yer alan home credit default risk projesinin veri seti) uyarlayacağız.\n",
    "\n",
    "Tekrar tekrar veri okutmak (path almak vs.) işlemleri ile uğraşmamak için fonksiyon tanımlayarak hareket edeceğiz."
   ]
  },
  {
   "cell_type": "code",
   "execution_count": 21,
   "metadata": {},
   "outputs": [
    {
     "data": {
      "text/html": [
       "<div>\n",
       "<style scoped>\n",
       "    .dataframe tbody tr th:only-of-type {\n",
       "        vertical-align: middle;\n",
       "    }\n",
       "\n",
       "    .dataframe tbody tr th {\n",
       "        vertical-align: top;\n",
       "    }\n",
       "\n",
       "    .dataframe thead th {\n",
       "        text-align: right;\n",
       "    }\n",
       "</style>\n",
       "<table border=\"1\" class=\"dataframe\">\n",
       "  <thead>\n",
       "    <tr style=\"text-align: right;\">\n",
       "      <th></th>\n",
       "      <th>SK_ID_CURR</th>\n",
       "      <th>TARGET</th>\n",
       "      <th>NAME_CONTRACT_TYPE</th>\n",
       "      <th>CODE_GENDER</th>\n",
       "      <th>FLAG_OWN_CAR</th>\n",
       "      <th>FLAG_OWN_REALTY</th>\n",
       "      <th>CNT_CHILDREN</th>\n",
       "      <th>AMT_INCOME_TOTAL</th>\n",
       "      <th>AMT_CREDIT</th>\n",
       "      <th>AMT_ANNUITY</th>\n",
       "      <th>...</th>\n",
       "      <th>FLAG_DOCUMENT_18</th>\n",
       "      <th>FLAG_DOCUMENT_19</th>\n",
       "      <th>FLAG_DOCUMENT_20</th>\n",
       "      <th>FLAG_DOCUMENT_21</th>\n",
       "      <th>AMT_REQ_CREDIT_BUREAU_HOUR</th>\n",
       "      <th>AMT_REQ_CREDIT_BUREAU_DAY</th>\n",
       "      <th>AMT_REQ_CREDIT_BUREAU_WEEK</th>\n",
       "      <th>AMT_REQ_CREDIT_BUREAU_MON</th>\n",
       "      <th>AMT_REQ_CREDIT_BUREAU_QRT</th>\n",
       "      <th>AMT_REQ_CREDIT_BUREAU_YEAR</th>\n",
       "    </tr>\n",
       "  </thead>\n",
       "  <tbody>\n",
       "    <tr>\n",
       "      <th>0</th>\n",
       "      <td>100002</td>\n",
       "      <td>1</td>\n",
       "      <td>Cash loans</td>\n",
       "      <td>M</td>\n",
       "      <td>N</td>\n",
       "      <td>Y</td>\n",
       "      <td>0</td>\n",
       "      <td>202500.000</td>\n",
       "      <td>406597.500</td>\n",
       "      <td>24700.500</td>\n",
       "      <td>...</td>\n",
       "      <td>0</td>\n",
       "      <td>0</td>\n",
       "      <td>0</td>\n",
       "      <td>0</td>\n",
       "      <td>0.000</td>\n",
       "      <td>0.000</td>\n",
       "      <td>0.000</td>\n",
       "      <td>0.000</td>\n",
       "      <td>0.000</td>\n",
       "      <td>1.000</td>\n",
       "    </tr>\n",
       "    <tr>\n",
       "      <th>1</th>\n",
       "      <td>100003</td>\n",
       "      <td>0</td>\n",
       "      <td>Cash loans</td>\n",
       "      <td>F</td>\n",
       "      <td>N</td>\n",
       "      <td>N</td>\n",
       "      <td>0</td>\n",
       "      <td>270000.000</td>\n",
       "      <td>1293502.500</td>\n",
       "      <td>35698.500</td>\n",
       "      <td>...</td>\n",
       "      <td>0</td>\n",
       "      <td>0</td>\n",
       "      <td>0</td>\n",
       "      <td>0</td>\n",
       "      <td>0.000</td>\n",
       "      <td>0.000</td>\n",
       "      <td>0.000</td>\n",
       "      <td>0.000</td>\n",
       "      <td>0.000</td>\n",
       "      <td>0.000</td>\n",
       "    </tr>\n",
       "    <tr>\n",
       "      <th>2</th>\n",
       "      <td>100004</td>\n",
       "      <td>0</td>\n",
       "      <td>Revolving loans</td>\n",
       "      <td>M</td>\n",
       "      <td>Y</td>\n",
       "      <td>Y</td>\n",
       "      <td>0</td>\n",
       "      <td>67500.000</td>\n",
       "      <td>135000.000</td>\n",
       "      <td>6750.000</td>\n",
       "      <td>...</td>\n",
       "      <td>0</td>\n",
       "      <td>0</td>\n",
       "      <td>0</td>\n",
       "      <td>0</td>\n",
       "      <td>0.000</td>\n",
       "      <td>0.000</td>\n",
       "      <td>0.000</td>\n",
       "      <td>0.000</td>\n",
       "      <td>0.000</td>\n",
       "      <td>0.000</td>\n",
       "    </tr>\n",
       "    <tr>\n",
       "      <th>3</th>\n",
       "      <td>100006</td>\n",
       "      <td>0</td>\n",
       "      <td>Cash loans</td>\n",
       "      <td>F</td>\n",
       "      <td>N</td>\n",
       "      <td>Y</td>\n",
       "      <td>0</td>\n",
       "      <td>135000.000</td>\n",
       "      <td>312682.500</td>\n",
       "      <td>29686.500</td>\n",
       "      <td>...</td>\n",
       "      <td>0</td>\n",
       "      <td>0</td>\n",
       "      <td>0</td>\n",
       "      <td>0</td>\n",
       "      <td>NaN</td>\n",
       "      <td>NaN</td>\n",
       "      <td>NaN</td>\n",
       "      <td>NaN</td>\n",
       "      <td>NaN</td>\n",
       "      <td>NaN</td>\n",
       "    </tr>\n",
       "    <tr>\n",
       "      <th>4</th>\n",
       "      <td>100007</td>\n",
       "      <td>0</td>\n",
       "      <td>Cash loans</td>\n",
       "      <td>M</td>\n",
       "      <td>N</td>\n",
       "      <td>Y</td>\n",
       "      <td>0</td>\n",
       "      <td>121500.000</td>\n",
       "      <td>513000.000</td>\n",
       "      <td>21865.500</td>\n",
       "      <td>...</td>\n",
       "      <td>0</td>\n",
       "      <td>0</td>\n",
       "      <td>0</td>\n",
       "      <td>0</td>\n",
       "      <td>0.000</td>\n",
       "      <td>0.000</td>\n",
       "      <td>0.000</td>\n",
       "      <td>0.000</td>\n",
       "      <td>0.000</td>\n",
       "      <td>0.000</td>\n",
       "    </tr>\n",
       "  </tbody>\n",
       "</table>\n",
       "<p>5 rows × 122 columns</p>\n",
       "</div>"
      ],
      "text/plain": [
       "   SK_ID_CURR  TARGET NAME_CONTRACT_TYPE CODE_GENDER FLAG_OWN_CAR  \\\n",
       "0      100002       1         Cash loans           M            N   \n",
       "1      100003       0         Cash loans           F            N   \n",
       "2      100004       0    Revolving loans           M            Y   \n",
       "3      100006       0         Cash loans           F            N   \n",
       "4      100007       0         Cash loans           M            N   \n",
       "\n",
       "  FLAG_OWN_REALTY  CNT_CHILDREN  AMT_INCOME_TOTAL  AMT_CREDIT  AMT_ANNUITY  \\\n",
       "0               Y             0        202500.000  406597.500    24700.500   \n",
       "1               N             0        270000.000 1293502.500    35698.500   \n",
       "2               Y             0         67500.000  135000.000     6750.000   \n",
       "3               Y             0        135000.000  312682.500    29686.500   \n",
       "4               Y             0        121500.000  513000.000    21865.500   \n",
       "\n",
       "   ...  FLAG_DOCUMENT_18 FLAG_DOCUMENT_19 FLAG_DOCUMENT_20 FLAG_DOCUMENT_21  \\\n",
       "0  ...                 0                0                0                0   \n",
       "1  ...                 0                0                0                0   \n",
       "2  ...                 0                0                0                0   \n",
       "3  ...                 0                0                0                0   \n",
       "4  ...                 0                0                0                0   \n",
       "\n",
       "  AMT_REQ_CREDIT_BUREAU_HOUR AMT_REQ_CREDIT_BUREAU_DAY  \\\n",
       "0                      0.000                     0.000   \n",
       "1                      0.000                     0.000   \n",
       "2                      0.000                     0.000   \n",
       "3                        NaN                       NaN   \n",
       "4                      0.000                     0.000   \n",
       "\n",
       "   AMT_REQ_CREDIT_BUREAU_WEEK  AMT_REQ_CREDIT_BUREAU_MON  \\\n",
       "0                       0.000                      0.000   \n",
       "1                       0.000                      0.000   \n",
       "2                       0.000                      0.000   \n",
       "3                         NaN                        NaN   \n",
       "4                       0.000                      0.000   \n",
       "\n",
       "   AMT_REQ_CREDIT_BUREAU_QRT  AMT_REQ_CREDIT_BUREAU_YEAR  \n",
       "0                      0.000                       1.000  \n",
       "1                      0.000                       0.000  \n",
       "2                      0.000                       0.000  \n",
       "3                        NaN                         NaN  \n",
       "4                      0.000                       0.000  \n",
       "\n",
       "[5 rows x 122 columns]"
      ]
     },
     "execution_count": 21,
     "metadata": {},
     "output_type": "execute_result"
    }
   ],
   "source": [
    "def load_application_train():\n",
    "    data = pd.read_csv(\"datasets/application_train.csv\")\n",
    "    return data\n",
    "\n",
    "df = load_application_train()\n",
    "df.head()"
   ]
  },
  {
   "cell_type": "code",
   "execution_count": 22,
   "metadata": {},
   "outputs": [
    {
     "data": {
      "text/html": [
       "<div>\n",
       "<style scoped>\n",
       "    .dataframe tbody tr th:only-of-type {\n",
       "        vertical-align: middle;\n",
       "    }\n",
       "\n",
       "    .dataframe tbody tr th {\n",
       "        vertical-align: top;\n",
       "    }\n",
       "\n",
       "    .dataframe thead th {\n",
       "        text-align: right;\n",
       "    }\n",
       "</style>\n",
       "<table border=\"1\" class=\"dataframe\">\n",
       "  <thead>\n",
       "    <tr style=\"text-align: right;\">\n",
       "      <th></th>\n",
       "      <th>PassengerId</th>\n",
       "      <th>Survived</th>\n",
       "      <th>Pclass</th>\n",
       "      <th>Name</th>\n",
       "      <th>Sex</th>\n",
       "      <th>Age</th>\n",
       "      <th>SibSp</th>\n",
       "      <th>Parch</th>\n",
       "      <th>Ticket</th>\n",
       "      <th>Fare</th>\n",
       "      <th>Cabin</th>\n",
       "      <th>Embarked</th>\n",
       "    </tr>\n",
       "  </thead>\n",
       "  <tbody>\n",
       "    <tr>\n",
       "      <th>0</th>\n",
       "      <td>1</td>\n",
       "      <td>0</td>\n",
       "      <td>3</td>\n",
       "      <td>Braund, Mr. Owen Harris</td>\n",
       "      <td>male</td>\n",
       "      <td>22.000</td>\n",
       "      <td>1</td>\n",
       "      <td>0</td>\n",
       "      <td>A/5 21171</td>\n",
       "      <td>7.250</td>\n",
       "      <td>NaN</td>\n",
       "      <td>S</td>\n",
       "    </tr>\n",
       "    <tr>\n",
       "      <th>1</th>\n",
       "      <td>2</td>\n",
       "      <td>1</td>\n",
       "      <td>1</td>\n",
       "      <td>Cumings, Mrs. John Bradley (Florence Briggs Th...</td>\n",
       "      <td>female</td>\n",
       "      <td>38.000</td>\n",
       "      <td>1</td>\n",
       "      <td>0</td>\n",
       "      <td>PC 17599</td>\n",
       "      <td>71.283</td>\n",
       "      <td>C85</td>\n",
       "      <td>C</td>\n",
       "    </tr>\n",
       "    <tr>\n",
       "      <th>2</th>\n",
       "      <td>3</td>\n",
       "      <td>1</td>\n",
       "      <td>3</td>\n",
       "      <td>Heikkinen, Miss. Laina</td>\n",
       "      <td>female</td>\n",
       "      <td>26.000</td>\n",
       "      <td>0</td>\n",
       "      <td>0</td>\n",
       "      <td>STON/O2. 3101282</td>\n",
       "      <td>7.925</td>\n",
       "      <td>NaN</td>\n",
       "      <td>S</td>\n",
       "    </tr>\n",
       "    <tr>\n",
       "      <th>3</th>\n",
       "      <td>4</td>\n",
       "      <td>1</td>\n",
       "      <td>1</td>\n",
       "      <td>Futrelle, Mrs. Jacques Heath (Lily May Peel)</td>\n",
       "      <td>female</td>\n",
       "      <td>35.000</td>\n",
       "      <td>1</td>\n",
       "      <td>0</td>\n",
       "      <td>113803</td>\n",
       "      <td>53.100</td>\n",
       "      <td>C123</td>\n",
       "      <td>S</td>\n",
       "    </tr>\n",
       "    <tr>\n",
       "      <th>4</th>\n",
       "      <td>5</td>\n",
       "      <td>0</td>\n",
       "      <td>3</td>\n",
       "      <td>Allen, Mr. William Henry</td>\n",
       "      <td>male</td>\n",
       "      <td>35.000</td>\n",
       "      <td>0</td>\n",
       "      <td>0</td>\n",
       "      <td>373450</td>\n",
       "      <td>8.050</td>\n",
       "      <td>NaN</td>\n",
       "      <td>S</td>\n",
       "    </tr>\n",
       "  </tbody>\n",
       "</table>\n",
       "</div>"
      ],
      "text/plain": [
       "   PassengerId  Survived  Pclass  \\\n",
       "0            1         0       3   \n",
       "1            2         1       1   \n",
       "2            3         1       3   \n",
       "3            4         1       1   \n",
       "4            5         0       3   \n",
       "\n",
       "                                                Name     Sex    Age  SibSp  \\\n",
       "0                            Braund, Mr. Owen Harris    male 22.000      1   \n",
       "1  Cumings, Mrs. John Bradley (Florence Briggs Th...  female 38.000      1   \n",
       "2                             Heikkinen, Miss. Laina  female 26.000      0   \n",
       "3       Futrelle, Mrs. Jacques Heath (Lily May Peel)  female 35.000      1   \n",
       "4                           Allen, Mr. William Henry    male 35.000      0   \n",
       "\n",
       "   Parch            Ticket   Fare Cabin Embarked  \n",
       "0      0         A/5 21171  7.250   NaN        S  \n",
       "1      0          PC 17599 71.283   C85        C  \n",
       "2      0  STON/O2. 3101282  7.925   NaN        S  \n",
       "3      0            113803 53.100  C123        S  \n",
       "4      0            373450  8.050   NaN        S  "
      ]
     },
     "execution_count": 22,
     "metadata": {},
     "output_type": "execute_result"
    }
   ],
   "source": [
    "def load():\n",
    "    data = pd.read_csv(\"datasets/titanic.csv\")\n",
    "    return data\n",
    "\n",
    "\n",
    "df = load()\n",
    "df.head()"
   ]
  },
  {
   "attachments": {},
   "cell_type": "markdown",
   "metadata": {},
   "source": [
    "### 1. Aykırı Değerleri Yakalama\n",
    "- Grafik teknikle aykırı değerleri görmek istersek, kutu grafik(boxplot) kullanırız. \n",
    "- Elimizde sayısal bir değişken varsa bu sayısal değişkeni en yaygın olarak boxplot ve histogram grafiği kullanılır. "
   ]
  },
  {
   "cell_type": "code",
   "execution_count": 34,
   "metadata": {},
   "outputs": [
    {
     "data": {
      "text/plain": [
       "<function matplotlib.pyplot.show(close=None, block=None)>"
      ]
     },
     "execution_count": 34,
     "metadata": {},
     "output_type": "execute_result"
    },
    {
     "data": {
      "image/png": "[encoded data removed]",
      "text/plain": [
       "<Figure size 640x480 with 1 Axes>"
      ]
     },
     "metadata": {},
     "output_type": "display_data"
    }
   ],
   "source": [
    "sns.boxplot(x=df[\"Age\"])\n",
    "plt.show\n",
    "\n",
    "# Yukarıda x= demezsek grafiği dikey olarak görürüz, bu sebeple x= diyerek düzlem belirtiyoruz. \n",
    "# Aşağıda aykırı değerleri görebiliyoruz"
   ]
  },
  {
   "cell_type": "code",
   "execution_count": 39,
   "metadata": {},
   "outputs": [
    {
     "name": "stdout",
     "output_type": "stream",
     "text": [
      "-6.6875 64.8125\n"
     ]
    }
   ],
   "source": [
    "# Yukarıdaki grafikte görmüş olduğumuz aykırı değerlere erişmek istiyoruz.\n",
    "# Bunun için öncelikle verisetimizdeki bu \"Age\" değişkeninin çeyreklik değerlerine erişmemiz gerekmektedir. Sonrasında IQR hesabı yapacağız;\n",
    "\n",
    "q1 = df[\"Age\"].quantile(0.25)\n",
    "q3 = df[\"Age\"].quantile(0.75)\n",
    "iqr = q3 - q1\n",
    "up = q3 + 1.5 * iqr\n",
    "low = q1 - 1.5 * iqr\n",
    "\n",
    "print(low, up)\n",
    "\n",
    "# Up değer 64.8 yaş low ise -6.68 yaşın - olamayacağını biliyoruz. "
   ]
  },
  {
   "cell_type": "code",
   "execution_count": 45,
   "metadata": {},
   "outputs": [
    {
     "data": {
      "text/html": [
       "<div>\n",
       "<style scoped>\n",
       "    .dataframe tbody tr th:only-of-type {\n",
       "        vertical-align: middle;\n",
       "    }\n",
       "\n",
       "    .dataframe tbody tr th {\n",
       "        vertical-align: top;\n",
       "    }\n",
       "\n",
       "    .dataframe thead th {\n",
       "        text-align: right;\n",
       "    }\n",
       "</style>\n",
       "<table border=\"1\" class=\"dataframe\">\n",
       "  <thead>\n",
       "    <tr style=\"text-align: right;\">\n",
       "      <th></th>\n",
       "      <th>PassengerId</th>\n",
       "      <th>Survived</th>\n",
       "      <th>Pclass</th>\n",
       "      <th>Name</th>\n",
       "      <th>Sex</th>\n",
       "      <th>Age</th>\n",
       "      <th>SibSp</th>\n",
       "      <th>Parch</th>\n",
       "      <th>Ticket</th>\n",
       "      <th>Fare</th>\n",
       "      <th>Cabin</th>\n",
       "      <th>Embarked</th>\n",
       "    </tr>\n",
       "  </thead>\n",
       "  <tbody>\n",
       "    <tr>\n",
       "      <th>33</th>\n",
       "      <td>34</td>\n",
       "      <td>0</td>\n",
       "      <td>2</td>\n",
       "      <td>Wheadon, Mr. Edward H</td>\n",
       "      <td>male</td>\n",
       "      <td>66.000</td>\n",
       "      <td>0</td>\n",
       "      <td>0</td>\n",
       "      <td>C.A. 24579</td>\n",
       "      <td>10.500</td>\n",
       "      <td>NaN</td>\n",
       "      <td>S</td>\n",
       "    </tr>\n",
       "    <tr>\n",
       "      <th>54</th>\n",
       "      <td>55</td>\n",
       "      <td>0</td>\n",
       "      <td>1</td>\n",
       "      <td>Ostby, Mr. Engelhart Cornelius</td>\n",
       "      <td>male</td>\n",
       "      <td>65.000</td>\n",
       "      <td>0</td>\n",
       "      <td>1</td>\n",
       "      <td>113509</td>\n",
       "      <td>61.979</td>\n",
       "      <td>B30</td>\n",
       "      <td>C</td>\n",
       "    </tr>\n",
       "    <tr>\n",
       "      <th>96</th>\n",
       "      <td>97</td>\n",
       "      <td>0</td>\n",
       "      <td>1</td>\n",
       "      <td>Goldschmidt, Mr. George B</td>\n",
       "      <td>male</td>\n",
       "      <td>71.000</td>\n",
       "      <td>0</td>\n",
       "      <td>0</td>\n",
       "      <td>PC 17754</td>\n",
       "      <td>34.654</td>\n",
       "      <td>A5</td>\n",
       "      <td>C</td>\n",
       "    </tr>\n",
       "    <tr>\n",
       "      <th>116</th>\n",
       "      <td>117</td>\n",
       "      <td>0</td>\n",
       "      <td>3</td>\n",
       "      <td>Connors, Mr. Patrick</td>\n",
       "      <td>male</td>\n",
       "      <td>70.500</td>\n",
       "      <td>0</td>\n",
       "      <td>0</td>\n",
       "      <td>370369</td>\n",
       "      <td>7.750</td>\n",
       "      <td>NaN</td>\n",
       "      <td>Q</td>\n",
       "    </tr>\n",
       "    <tr>\n",
       "      <th>280</th>\n",
       "      <td>281</td>\n",
       "      <td>0</td>\n",
       "      <td>3</td>\n",
       "      <td>Duane, Mr. Frank</td>\n",
       "      <td>male</td>\n",
       "      <td>65.000</td>\n",
       "      <td>0</td>\n",
       "      <td>0</td>\n",
       "      <td>336439</td>\n",
       "      <td>7.750</td>\n",
       "      <td>NaN</td>\n",
       "      <td>Q</td>\n",
       "    </tr>\n",
       "    <tr>\n",
       "      <th>456</th>\n",
       "      <td>457</td>\n",
       "      <td>0</td>\n",
       "      <td>1</td>\n",
       "      <td>Millet, Mr. Francis Davis</td>\n",
       "      <td>male</td>\n",
       "      <td>65.000</td>\n",
       "      <td>0</td>\n",
       "      <td>0</td>\n",
       "      <td>13509</td>\n",
       "      <td>26.550</td>\n",
       "      <td>E38</td>\n",
       "      <td>S</td>\n",
       "    </tr>\n",
       "    <tr>\n",
       "      <th>493</th>\n",
       "      <td>494</td>\n",
       "      <td>0</td>\n",
       "      <td>1</td>\n",
       "      <td>Artagaveytia, Mr. Ramon</td>\n",
       "      <td>male</td>\n",
       "      <td>71.000</td>\n",
       "      <td>0</td>\n",
       "      <td>0</td>\n",
       "      <td>PC 17609</td>\n",
       "      <td>49.504</td>\n",
       "      <td>NaN</td>\n",
       "      <td>C</td>\n",
       "    </tr>\n",
       "    <tr>\n",
       "      <th>630</th>\n",
       "      <td>631</td>\n",
       "      <td>1</td>\n",
       "      <td>1</td>\n",
       "      <td>Barkworth, Mr. Algernon Henry Wilson</td>\n",
       "      <td>male</td>\n",
       "      <td>80.000</td>\n",
       "      <td>0</td>\n",
       "      <td>0</td>\n",
       "      <td>27042</td>\n",
       "      <td>30.000</td>\n",
       "      <td>A23</td>\n",
       "      <td>S</td>\n",
       "    </tr>\n",
       "    <tr>\n",
       "      <th>672</th>\n",
       "      <td>673</td>\n",
       "      <td>0</td>\n",
       "      <td>2</td>\n",
       "      <td>Mitchell, Mr. Henry Michael</td>\n",
       "      <td>male</td>\n",
       "      <td>70.000</td>\n",
       "      <td>0</td>\n",
       "      <td>0</td>\n",
       "      <td>C.A. 24580</td>\n",
       "      <td>10.500</td>\n",
       "      <td>NaN</td>\n",
       "      <td>S</td>\n",
       "    </tr>\n",
       "    <tr>\n",
       "      <th>745</th>\n",
       "      <td>746</td>\n",
       "      <td>0</td>\n",
       "      <td>1</td>\n",
       "      <td>Crosby, Capt. Edward Gifford</td>\n",
       "      <td>male</td>\n",
       "      <td>70.000</td>\n",
       "      <td>1</td>\n",
       "      <td>1</td>\n",
       "      <td>WE/P 5735</td>\n",
       "      <td>71.000</td>\n",
       "      <td>B22</td>\n",
       "      <td>S</td>\n",
       "    </tr>\n",
       "    <tr>\n",
       "      <th>851</th>\n",
       "      <td>852</td>\n",
       "      <td>0</td>\n",
       "      <td>3</td>\n",
       "      <td>Svensson, Mr. Johan</td>\n",
       "      <td>male</td>\n",
       "      <td>74.000</td>\n",
       "      <td>0</td>\n",
       "      <td>0</td>\n",
       "      <td>347060</td>\n",
       "      <td>7.775</td>\n",
       "      <td>NaN</td>\n",
       "      <td>S</td>\n",
       "    </tr>\n",
       "  </tbody>\n",
       "</table>\n",
       "</div>"
      ],
      "text/plain": [
       "     PassengerId  Survived  Pclass                                  Name  \\\n",
       "33            34         0       2                 Wheadon, Mr. Edward H   \n",
       "54            55         0       1        Ostby, Mr. Engelhart Cornelius   \n",
       "96            97         0       1             Goldschmidt, Mr. George B   \n",
       "116          117         0       3                  Connors, Mr. Patrick   \n",
       "280          281         0       3                      Duane, Mr. Frank   \n",
       "456          457         0       1             Millet, Mr. Francis Davis   \n",
       "493          494         0       1               Artagaveytia, Mr. Ramon   \n",
       "630          631         1       1  Barkworth, Mr. Algernon Henry Wilson   \n",
       "672          673         0       2           Mitchell, Mr. Henry Michael   \n",
       "745          746         0       1          Crosby, Capt. Edward Gifford   \n",
       "851          852         0       3                   Svensson, Mr. Johan   \n",
       "\n",
       "      Sex    Age  SibSp  Parch      Ticket   Fare Cabin Embarked  \n",
       "33   male 66.000      0      0  C.A. 24579 10.500   NaN        S  \n",
       "54   male 65.000      0      1      113509 61.979   B30        C  \n",
       "96   male 71.000      0      0    PC 17754 34.654    A5        C  \n",
       "116  male 70.500      0      0      370369  7.750   NaN        Q  \n",
       "280  male 65.000      0      0      336439  7.750   NaN        Q  \n",
       "456  male 65.000      0      0       13509 26.550   E38        S  \n",
       "493  male 71.000      0      0    PC 17609 49.504   NaN        C  \n",
       "630  male 80.000      0      0       27042 30.000   A23        S  \n",
       "672  male 70.000      0      0  C.A. 24580 10.500   NaN        S  \n",
       "745  male 70.000      1      1   WE/P 5735 71.000   B22        S  \n",
       "851  male 74.000      0      0      347060  7.775   NaN        S  "
      ]
     },
     "execution_count": 45,
     "metadata": {},
     "output_type": "execute_result"
    }
   ],
   "source": [
    "# Şimdi outlier değerlere erişeceğiz;\n",
    "# Bunun için alt sınırdan küçük olanları (< low) ya da üst sınırdan büyük olanları (> up) getirmesini istiyoruz. \n",
    "\n",
    "df[(df[\"Age\"] < low) | (df[\"Age\"] > up)]\n",
    "\n",
    "# Çok fazla outlier değer bulunmadığını gözlemliyoruz."
   ]
  },
  {
   "cell_type": "code",
   "execution_count": 47,
   "metadata": {},
   "outputs": [
    {
     "data": {
      "text/plain": [
       "Int64Index([33, 54, 96, 116, 280, 456, 493, 630, 672, 745, 851], dtype='int64')"
      ]
     },
     "execution_count": 47,
     "metadata": {},
     "output_type": "execute_result"
    }
   ],
   "source": [
    "# Outlier değerleri getirdik ancak daha sonra bunları hızlıca bulabilmek için bunların indekslerini saklamamız gerekmektedir;\n",
    "\n",
    "df[(df[\"Age\"] < low) | (df[\"Age\"] > up)].index"
   ]
  },
  {
   "cell_type": "code",
   "execution_count": 50,
   "metadata": {},
   "outputs": [
    {
     "data": {
      "text/plain": [
       "True"
      ]
     },
     "execution_count": 50,
     "metadata": {},
     "output_type": "execute_result"
    }
   ],
   "source": [
    "# Hızlıca aykırı değer var mı yok mu bakmak istersek; \n",
    "df[(df[\"Age\"] < low) | (df[\"Age\"] > up)]. any(axis=None)\n",
    "# True döndü, bu demektir ki değişkenimizde herhangi bir aykırı değer olduğunu gözlemlemiş oluruz. "
   ]
  },
  {
   "cell_type": "code",
   "execution_count": 51,
   "metadata": {},
   "outputs": [
    {
     "data": {
      "text/plain": [
       "33     True\n",
       "54     True\n",
       "96     True\n",
       "116    True\n",
       "280    True\n",
       "456    True\n",
       "493    True\n",
       "630    True\n",
       "672    True\n",
       "745    True\n",
       "851    True\n",
       "dtype: bool"
      ]
     },
     "execution_count": 51,
     "metadata": {},
     "output_type": "execute_result"
    }
   ],
   "source": [
    "# axis=1 seçilirse;\n",
    "\n",
    "df[(df[\"Age\"] < low) | (df[\"Age\"] > up)].any(axis=1)\n",
    "\n",
    "# indeks sayıları ile birlikte gelir. "
   ]
  },
  {
   "cell_type": "code",
   "execution_count": 52,
   "metadata": {},
   "outputs": [
    {
     "data": {
      "text/plain": [
       "PassengerId    True\n",
       "Survived       True\n",
       "Pclass         True\n",
       "Name           True\n",
       "Sex            True\n",
       "Age            True\n",
       "SibSp          True\n",
       "Parch          True\n",
       "Ticket         True\n",
       "Fare           True\n",
       "Cabin          True\n",
       "Embarked       True\n",
       "dtype: bool"
      ]
     },
     "execution_count": 52,
     "metadata": {},
     "output_type": "execute_result"
    }
   ],
   "source": [
    "# axis=0 seçilirse;\n",
    "\n",
    "df[(df[\"Age\"] < low) | (df[\"Age\"] > up)].any(axis=0)\n",
    "\n",
    "# Sütun isimleri ile birlikte gelir."
   ]
  },
  {
   "attachments": {},
   "cell_type": "markdown",
   "metadata": {},
   "source": [
    "### 2. Fonksiyonlaştırma"
   ]
  },
  {
   "cell_type": "code",
   "execution_count": 55,
   "metadata": {},
   "outputs": [
    {
     "data": {
      "text/plain": [
       "(-6.6875, 64.8125)"
      ]
     },
     "execution_count": 55,
     "metadata": {},
     "output_type": "execute_result"
    }
   ],
   "source": [
    "# Yukarıdaki işlemi her değişken için tekrarlamak çok zor olacağı için bir fonksiyon oluşturup sonrasında fonksiyon üzerinden ilerlememiz gerekir;\n",
    "# outlier_threshold adında bir fonksiyon tanımlayalım. Bu fonksiyonun görevi kendisi içine girilen değerlerin eşik değerin üstünde olup olmadığına bakmak olsun.\n",
    "def outlier_thresholds(dataframe, col_name, q1=0.25, q3=0.75):\n",
    "    quartile1 = dataframe[col_name].quantile(q1)\n",
    "    quartile3 = dataframe[col_name].quantile(q3)\n",
    "    interquantile_range = quartile3 - quartile1\n",
    "    up_limit = quartile3 + 1.5 * interquantile_range\n",
    "    low_limit = quartile1 - 1.5 * interquantile_range\n",
    "    return low_limit, up_limit\n",
    "    \n",
    "    # Yukarıdaki fonksiyonu bir değişkenin alt ve üst limitlerin hızlıca hesaplanması için tanımladık.\n",
    "\n",
    "def check_outlier(dataframe, col_name):\n",
    "    low_limit, up_limit = outlier_thresholds(dataframe, col_name)\n",
    "    if dataframe[(dataframe[col_name] > up_limit) | (dataframe[col_name] < low_limit)].any(axis=None):\n",
    "        return True\n",
    "    else:\n",
    "        return False\n",
    "\n",
    "    # Yukarıdaki fonksiyonu ise değişkenin içerisinde outlier değer var mı yok mı sorusunun cevabını hızlıca görebilmek için tanımladık."
   ]
  },
  {
   "cell_type": "code",
   "execution_count": 57,
   "metadata": {},
   "outputs": [
    {
     "data": {
      "text/plain": [
       "(-6.6875, 64.8125)"
      ]
     },
     "execution_count": 57,
     "metadata": {},
     "output_type": "execute_result"
    }
   ],
   "source": [
    "outlier_thresholds(df, \"Age\")# Şimdi ilk fonksitonu yaş değişkeni için çağıralım."
   ]
  },
  {
   "cell_type": "code",
   "execution_count": 58,
   "metadata": {},
   "outputs": [
    {
     "data": {
      "text/plain": [
       "True"
      ]
     },
     "execution_count": 58,
     "metadata": {},
     "output_type": "execute_result"
    }
   ],
   "source": [
    "# \"Age\" değişkeninde aykırı değer var mı bakalım;\n",
    "check_outlier(df, \"Age\")"
   ]
  },
  {
   "cell_type": "code",
   "execution_count": 59,
   "metadata": {},
   "outputs": [
    {
     "data": {
      "text/plain": [
       "(-26.724, 65.6344)"
      ]
     },
     "execution_count": 59,
     "metadata": {},
     "output_type": "execute_result"
    }
   ],
   "source": [
    "# Fare değişkeni için alt ve üst eşik değerleri;\n",
    "outlier_thresholds(df, \"Fare\")"
   ]
  },
  {
   "cell_type": "code",
   "execution_count": 60,
   "metadata": {},
   "outputs": [
    {
     "data": {
      "text/plain": [
       "True"
      ]
     },
     "execution_count": 60,
     "metadata": {},
     "output_type": "execute_result"
    }
   ],
   "source": [
    "# \"Fare\" değişkeninde aykırı değer var mı;\n",
    "check_outlier(df, \"Fare\")"
   ]
  },
  {
   "cell_type": "code",
   "execution_count": 61,
   "metadata": {},
   "outputs": [
    {
     "data": {
      "text/html": [
       "<div>\n",
       "<style scoped>\n",
       "    .dataframe tbody tr th:only-of-type {\n",
       "        vertical-align: middle;\n",
       "    }\n",
       "\n",
       "    .dataframe tbody tr th {\n",
       "        vertical-align: top;\n",
       "    }\n",
       "\n",
       "    .dataframe thead th {\n",
       "        text-align: right;\n",
       "    }\n",
       "</style>\n",
       "<table border=\"1\" class=\"dataframe\">\n",
       "  <thead>\n",
       "    <tr style=\"text-align: right;\">\n",
       "      <th></th>\n",
       "      <th>PassengerId</th>\n",
       "      <th>Survived</th>\n",
       "      <th>Pclass</th>\n",
       "      <th>Name</th>\n",
       "      <th>Sex</th>\n",
       "      <th>Age</th>\n",
       "      <th>SibSp</th>\n",
       "      <th>Parch</th>\n",
       "      <th>Ticket</th>\n",
       "      <th>Fare</th>\n",
       "      <th>Cabin</th>\n",
       "      <th>Embarked</th>\n",
       "    </tr>\n",
       "  </thead>\n",
       "  <tbody>\n",
       "    <tr>\n",
       "      <th>1</th>\n",
       "      <td>2</td>\n",
       "      <td>1</td>\n",
       "      <td>1</td>\n",
       "      <td>Cumings, Mrs. John Bradley (Florence Briggs Th...</td>\n",
       "      <td>female</td>\n",
       "      <td>38.000</td>\n",
       "      <td>1</td>\n",
       "      <td>0</td>\n",
       "      <td>PC 17599</td>\n",
       "      <td>71.283</td>\n",
       "      <td>C85</td>\n",
       "      <td>C</td>\n",
       "    </tr>\n",
       "    <tr>\n",
       "      <th>27</th>\n",
       "      <td>28</td>\n",
       "      <td>0</td>\n",
       "      <td>1</td>\n",
       "      <td>Fortune, Mr. Charles Alexander</td>\n",
       "      <td>male</td>\n",
       "      <td>19.000</td>\n",
       "      <td>3</td>\n",
       "      <td>2</td>\n",
       "      <td>19950</td>\n",
       "      <td>263.000</td>\n",
       "      <td>C23 C25 C27</td>\n",
       "      <td>S</td>\n",
       "    </tr>\n",
       "    <tr>\n",
       "      <th>31</th>\n",
       "      <td>32</td>\n",
       "      <td>1</td>\n",
       "      <td>1</td>\n",
       "      <td>Spencer, Mrs. William Augustus (Marie Eugenie)</td>\n",
       "      <td>female</td>\n",
       "      <td>NaN</td>\n",
       "      <td>1</td>\n",
       "      <td>0</td>\n",
       "      <td>PC 17569</td>\n",
       "      <td>146.521</td>\n",
       "      <td>B78</td>\n",
       "      <td>C</td>\n",
       "    </tr>\n",
       "    <tr>\n",
       "      <th>34</th>\n",
       "      <td>35</td>\n",
       "      <td>0</td>\n",
       "      <td>1</td>\n",
       "      <td>Meyer, Mr. Edgar Joseph</td>\n",
       "      <td>male</td>\n",
       "      <td>28.000</td>\n",
       "      <td>1</td>\n",
       "      <td>0</td>\n",
       "      <td>PC 17604</td>\n",
       "      <td>82.171</td>\n",
       "      <td>NaN</td>\n",
       "      <td>C</td>\n",
       "    </tr>\n",
       "    <tr>\n",
       "      <th>52</th>\n",
       "      <td>53</td>\n",
       "      <td>1</td>\n",
       "      <td>1</td>\n",
       "      <td>Harper, Mrs. Henry Sleeper (Myna Haxtun)</td>\n",
       "      <td>female</td>\n",
       "      <td>49.000</td>\n",
       "      <td>1</td>\n",
       "      <td>0</td>\n",
       "      <td>PC 17572</td>\n",
       "      <td>76.729</td>\n",
       "      <td>D33</td>\n",
       "      <td>C</td>\n",
       "    </tr>\n",
       "  </tbody>\n",
       "</table>\n",
       "</div>"
      ],
      "text/plain": [
       "    PassengerId  Survived  Pclass  \\\n",
       "1             2         1       1   \n",
       "27           28         0       1   \n",
       "31           32         1       1   \n",
       "34           35         0       1   \n",
       "52           53         1       1   \n",
       "\n",
       "                                                 Name     Sex    Age  SibSp  \\\n",
       "1   Cumings, Mrs. John Bradley (Florence Briggs Th...  female 38.000      1   \n",
       "27                     Fortune, Mr. Charles Alexander    male 19.000      3   \n",
       "31     Spencer, Mrs. William Augustus (Marie Eugenie)  female    NaN      1   \n",
       "34                            Meyer, Mr. Edgar Joseph    male 28.000      1   \n",
       "52           Harper, Mrs. Henry Sleeper (Myna Haxtun)  female 49.000      1   \n",
       "\n",
       "    Parch    Ticket    Fare        Cabin Embarked  \n",
       "1       0  PC 17599  71.283          C85        C  \n",
       "27      2     19950 263.000  C23 C25 C27        S  \n",
       "31      0  PC 17569 146.521          B78        C  \n",
       "34      0  PC 17604  82.171          NaN        C  \n",
       "52      0  PC 17572  76.729          D33        C  "
      ]
     },
     "execution_count": 61,
     "metadata": {},
     "output_type": "execute_result"
    }
   ],
   "source": [
    "df[(df[\"Fare\"] < low) | (df[\"Fare\"] > up)].head()"
   ]
  },
  {
   "cell_type": "code",
   "execution_count": 62,
   "metadata": {},
   "outputs": [
    {
     "data": {
      "text/plain": [
       "Int64Index([  1,  27,  31,  34,  52,  61,  62,  72,  88, 102,\n",
       "            ...\n",
       "            792, 802, 820, 829, 835, 846, 849, 856, 863, 879],\n",
       "           dtype='int64', length=118)"
      ]
     },
     "execution_count": 62,
     "metadata": {},
     "output_type": "execute_result"
    }
   ],
   "source": [
    "# 118 tane problemli değer varmış;\n",
    "df[(df[\"Fare\"] < low) | (df[\"Fare\"] > up)].index\n"
   ]
  },
  {
   "cell_type": "code",
   "execution_count": 64,
   "metadata": {},
   "outputs": [],
   "source": [
    "# Elimizde 100 tane değişken olsa ve buna bakmamız gerekse, tek tek bakmak oldukça zor oalcaktır. Bunun için bir yaklaşım geliştireceğiz."
   ]
  },
  {
   "cell_type": "code",
   "execution_count": 65,
   "metadata": {},
   "outputs": [
    {
     "data": {
      "text/html": [
       "<div>\n",
       "<style scoped>\n",
       "    .dataframe tbody tr th:only-of-type {\n",
       "        vertical-align: middle;\n",
       "    }\n",
       "\n",
       "    .dataframe tbody tr th {\n",
       "        vertical-align: top;\n",
       "    }\n",
       "\n",
       "    .dataframe thead th {\n",
       "        text-align: right;\n",
       "    }\n",
       "</style>\n",
       "<table border=\"1\" class=\"dataframe\">\n",
       "  <thead>\n",
       "    <tr style=\"text-align: right;\">\n",
       "      <th></th>\n",
       "      <th>SK_ID_CURR</th>\n",
       "      <th>TARGET</th>\n",
       "      <th>NAME_CONTRACT_TYPE</th>\n",
       "      <th>CODE_GENDER</th>\n",
       "      <th>FLAG_OWN_CAR</th>\n",
       "      <th>FLAG_OWN_REALTY</th>\n",
       "      <th>CNT_CHILDREN</th>\n",
       "      <th>AMT_INCOME_TOTAL</th>\n",
       "      <th>AMT_CREDIT</th>\n",
       "      <th>AMT_ANNUITY</th>\n",
       "      <th>...</th>\n",
       "      <th>FLAG_DOCUMENT_18</th>\n",
       "      <th>FLAG_DOCUMENT_19</th>\n",
       "      <th>FLAG_DOCUMENT_20</th>\n",
       "      <th>FLAG_DOCUMENT_21</th>\n",
       "      <th>AMT_REQ_CREDIT_BUREAU_HOUR</th>\n",
       "      <th>AMT_REQ_CREDIT_BUREAU_DAY</th>\n",
       "      <th>AMT_REQ_CREDIT_BUREAU_WEEK</th>\n",
       "      <th>AMT_REQ_CREDIT_BUREAU_MON</th>\n",
       "      <th>AMT_REQ_CREDIT_BUREAU_QRT</th>\n",
       "      <th>AMT_REQ_CREDIT_BUREAU_YEAR</th>\n",
       "    </tr>\n",
       "  </thead>\n",
       "  <tbody>\n",
       "    <tr>\n",
       "      <th>0</th>\n",
       "      <td>100002</td>\n",
       "      <td>1</td>\n",
       "      <td>Cash loans</td>\n",
       "      <td>M</td>\n",
       "      <td>N</td>\n",
       "      <td>Y</td>\n",
       "      <td>0</td>\n",
       "      <td>202500.000</td>\n",
       "      <td>406597.500</td>\n",
       "      <td>24700.500</td>\n",
       "      <td>...</td>\n",
       "      <td>0</td>\n",
       "      <td>0</td>\n",
       "      <td>0</td>\n",
       "      <td>0</td>\n",
       "      <td>0.000</td>\n",
       "      <td>0.000</td>\n",
       "      <td>0.000</td>\n",
       "      <td>0.000</td>\n",
       "      <td>0.000</td>\n",
       "      <td>1.000</td>\n",
       "    </tr>\n",
       "    <tr>\n",
       "      <th>1</th>\n",
       "      <td>100003</td>\n",
       "      <td>0</td>\n",
       "      <td>Cash loans</td>\n",
       "      <td>F</td>\n",
       "      <td>N</td>\n",
       "      <td>N</td>\n",
       "      <td>0</td>\n",
       "      <td>270000.000</td>\n",
       "      <td>1293502.500</td>\n",
       "      <td>35698.500</td>\n",
       "      <td>...</td>\n",
       "      <td>0</td>\n",
       "      <td>0</td>\n",
       "      <td>0</td>\n",
       "      <td>0</td>\n",
       "      <td>0.000</td>\n",
       "      <td>0.000</td>\n",
       "      <td>0.000</td>\n",
       "      <td>0.000</td>\n",
       "      <td>0.000</td>\n",
       "      <td>0.000</td>\n",
       "    </tr>\n",
       "    <tr>\n",
       "      <th>2</th>\n",
       "      <td>100004</td>\n",
       "      <td>0</td>\n",
       "      <td>Revolving loans</td>\n",
       "      <td>M</td>\n",
       "      <td>Y</td>\n",
       "      <td>Y</td>\n",
       "      <td>0</td>\n",
       "      <td>67500.000</td>\n",
       "      <td>135000.000</td>\n",
       "      <td>6750.000</td>\n",
       "      <td>...</td>\n",
       "      <td>0</td>\n",
       "      <td>0</td>\n",
       "      <td>0</td>\n",
       "      <td>0</td>\n",
       "      <td>0.000</td>\n",
       "      <td>0.000</td>\n",
       "      <td>0.000</td>\n",
       "      <td>0.000</td>\n",
       "      <td>0.000</td>\n",
       "      <td>0.000</td>\n",
       "    </tr>\n",
       "    <tr>\n",
       "      <th>3</th>\n",
       "      <td>100006</td>\n",
       "      <td>0</td>\n",
       "      <td>Cash loans</td>\n",
       "      <td>F</td>\n",
       "      <td>N</td>\n",
       "      <td>Y</td>\n",
       "      <td>0</td>\n",
       "      <td>135000.000</td>\n",
       "      <td>312682.500</td>\n",
       "      <td>29686.500</td>\n",
       "      <td>...</td>\n",
       "      <td>0</td>\n",
       "      <td>0</td>\n",
       "      <td>0</td>\n",
       "      <td>0</td>\n",
       "      <td>NaN</td>\n",
       "      <td>NaN</td>\n",
       "      <td>NaN</td>\n",
       "      <td>NaN</td>\n",
       "      <td>NaN</td>\n",
       "      <td>NaN</td>\n",
       "    </tr>\n",
       "    <tr>\n",
       "      <th>4</th>\n",
       "      <td>100007</td>\n",
       "      <td>0</td>\n",
       "      <td>Cash loans</td>\n",
       "      <td>M</td>\n",
       "      <td>N</td>\n",
       "      <td>Y</td>\n",
       "      <td>0</td>\n",
       "      <td>121500.000</td>\n",
       "      <td>513000.000</td>\n",
       "      <td>21865.500</td>\n",
       "      <td>...</td>\n",
       "      <td>0</td>\n",
       "      <td>0</td>\n",
       "      <td>0</td>\n",
       "      <td>0</td>\n",
       "      <td>0.000</td>\n",
       "      <td>0.000</td>\n",
       "      <td>0.000</td>\n",
       "      <td>0.000</td>\n",
       "      <td>0.000</td>\n",
       "      <td>0.000</td>\n",
       "    </tr>\n",
       "  </tbody>\n",
       "</table>\n",
       "<p>5 rows × 122 columns</p>\n",
       "</div>"
      ],
      "text/plain": [
       "   SK_ID_CURR  TARGET NAME_CONTRACT_TYPE CODE_GENDER FLAG_OWN_CAR  \\\n",
       "0      100002       1         Cash loans           M            N   \n",
       "1      100003       0         Cash loans           F            N   \n",
       "2      100004       0    Revolving loans           M            Y   \n",
       "3      100006       0         Cash loans           F            N   \n",
       "4      100007       0         Cash loans           M            N   \n",
       "\n",
       "  FLAG_OWN_REALTY  CNT_CHILDREN  AMT_INCOME_TOTAL  AMT_CREDIT  AMT_ANNUITY  \\\n",
       "0               Y             0        202500.000  406597.500    24700.500   \n",
       "1               N             0        270000.000 1293502.500    35698.500   \n",
       "2               Y             0         67500.000  135000.000     6750.000   \n",
       "3               Y             0        135000.000  312682.500    29686.500   \n",
       "4               Y             0        121500.000  513000.000    21865.500   \n",
       "\n",
       "   ...  FLAG_DOCUMENT_18 FLAG_DOCUMENT_19 FLAG_DOCUMENT_20 FLAG_DOCUMENT_21  \\\n",
       "0  ...                 0                0                0                0   \n",
       "1  ...                 0                0                0                0   \n",
       "2  ...                 0                0                0                0   \n",
       "3  ...                 0                0                0                0   \n",
       "4  ...                 0                0                0                0   \n",
       "\n",
       "  AMT_REQ_CREDIT_BUREAU_HOUR AMT_REQ_CREDIT_BUREAU_DAY  \\\n",
       "0                      0.000                     0.000   \n",
       "1                      0.000                     0.000   \n",
       "2                      0.000                     0.000   \n",
       "3                        NaN                       NaN   \n",
       "4                      0.000                     0.000   \n",
       "\n",
       "   AMT_REQ_CREDIT_BUREAU_WEEK  AMT_REQ_CREDIT_BUREAU_MON  \\\n",
       "0                       0.000                      0.000   \n",
       "1                       0.000                      0.000   \n",
       "2                       0.000                      0.000   \n",
       "3                         NaN                        NaN   \n",
       "4                       0.000                      0.000   \n",
       "\n",
       "   AMT_REQ_CREDIT_BUREAU_QRT  AMT_REQ_CREDIT_BUREAU_YEAR  \n",
       "0                      0.000                       1.000  \n",
       "1                      0.000                       0.000  \n",
       "2                      0.000                       0.000  \n",
       "3                        NaN                         NaN  \n",
       "4                      0.000                       0.000  \n",
       "\n",
       "[5 rows x 122 columns]"
      ]
     },
     "execution_count": 65,
     "metadata": {},
     "output_type": "execute_result"
    }
   ],
   "source": [
    "dff = load_application_train()\n",
    "dff.head()"
   ]
  },
  {
   "cell_type": "code",
   "execution_count": 76,
   "metadata": {},
   "outputs": [],
   "source": [
    "# Yukarıdaki veri setimizde 122 değişken (sütun) olduğunu görüyoruz. Bu değişkenleri analiz edebilmek için veri türlerini bilmemiz gerekir.\n",
    "# Veri numerik gözüküyor ama kategorik mi?\n",
    "# Verimiz kategorik olduğu halde kardinalitesi yüksek olduğu için nitelik taşııyor olabilir mi?\n",
    "# Bu soruların cevaplarını verebiliyor olmamız gerekir.\n",
    "\n",
    "# Titanik veri seti küçük olduğu için anlamıştık, lakin 122 değişkenin olduğu bir veri setinde bunu manuel yapmak pek de mümkün değildir.\n",
    "# Bu durum için bir fonksiyon tanımlayacağız;\n",
    "\n",
    "def grab_col_names(dataframe, cat_th=10, car_th=20):\n",
    "    \"\"\"\n",
    "\n",
    "    Veri setindeki kategorik, numerik ve kategorik fakat kardinal değişkenlerin isimlerini verir.\n",
    "    Not: Kategorik değişkenlerin içerisine numerik görünümlü kategorik değişkenler de dahildir.\n",
    "\n",
    "    Parameters\n",
    "    ------\n",
    "        dataframe: dataframe\n",
    "                Değişken isimleri alınmak istenilen dataframe\n",
    "        cat_th: int, optional\n",
    "                numerik fakat kategorik olan değişkenler için sınıf eşik değeri\n",
    "        car_th: int, optinal\n",
    "                kategorik fakat kardinal değişkenler için sınıf eşik değeri\n",
    "\n",
    "    Returns\n",
    "    ------\n",
    "        cat_cols: list\n",
    "                Kategorik değişken listesi\n",
    "        num_cols: list\n",
    "                Numerik değişken listesi\n",
    "        cat_but_car: list\n",
    "                Kategorik görünümlü kardinal değişken listesi\n",
    "\n",
    "    Examples\n",
    "    ------\n",
    "        import seaborn as sns\n",
    "        df = sns.load_dataset(\"iris\")\n",
    "        print(grab_col_names(df))\n",
    "\n",
    "\n",
    "    Notes\n",
    "    ------\n",
    "        cat_cols + num_cols + cat_but_car = toplam değişken sayısı\n",
    "        num_but_cat cat_cols'un içerisinde.\n",
    "        Return olan 3 liste toplamı toplam değişken sayısına eşittir: cat_cols + num_cols + cat_but_car = değişken sayısı\n",
    "\n",
    "    \"\"\"\n",
    "\n",
    "    # cat_cols, cat_but_car\n",
    "    cat_cols = [col for col in dataframe.columns if dataframe[col].dtypes == \"O\"]\n",
    "    num_but_cat = [col for col in dataframe.columns if dataframe[col].nunique() < cat_th and\n",
    "                   dataframe[col].dtypes != \"O\"]\n",
    "    cat_but_car = [col for col in dataframe.columns if dataframe[col].nunique() > car_th and\n",
    "                   dataframe[col].dtypes == \"O\"]\n",
    "    cat_cols = cat_cols + num_but_cat\n",
    "    cat_cols = [col for col in cat_cols if col not in cat_but_car]\n",
    "\n",
    "    # num_cols\n",
    "    num_cols = [col for col in dataframe.columns if dataframe[col].dtypes != \"O\"]\n",
    "    num_cols = [col for col in num_cols if col not in num_but_cat]\n",
    "\n",
    "    print(f\"Observations: {dataframe.shape[0]}\")\n",
    "    print(f\"Variables: {dataframe.shape[1]}\")\n",
    "    print(f'cat_cols: {len(cat_cols)}')\n",
    "    print(f'num_cols: {len(num_cols)}')\n",
    "    print(f'cat_but_car: {len(cat_but_car)}')\n",
    "    print(f'num_but_cat: {len(num_but_cat)}')\n",
    "    return cat_cols, num_cols, cat_but_car"
   ]
  },
  {
   "cell_type": "code",
   "execution_count": 77,
   "metadata": {},
   "outputs": [
    {
     "name": "stdout",
     "output_type": "stream",
     "text": [
      "Observations: 891\n",
      "Variables: 12\n",
      "cat_cols: 6\n",
      "num_cols: 3\n",
      "cat_but_car: 3\n",
      "num_but_cat: 4\n",
      "########################\n",
      "['Sex', 'Embarked', 'Survived', 'Pclass', 'SibSp', 'Parch']\n",
      "['PassengerId', 'Age', 'Fare']\n",
      "['Name', 'Ticket', 'Cabin']\n"
     ]
    }
   ],
   "source": [
    "cat_cols, num_cols, cat_but_car = grab_col_names(df)\n",
    "\n",
    "print(\"########################\")\n",
    "print(cat_cols)\n",
    "print(num_cols)\n",
    "print(cat_but_car)"
   ]
  },
  {
   "cell_type": "code",
   "execution_count": 78,
   "metadata": {},
   "outputs": [
    {
     "data": {
      "text/plain": [
       "['Age', 'Fare']"
      ]
     },
     "execution_count": 78,
     "metadata": {},
     "output_type": "execute_result"
    }
   ],
   "source": [
    "# passengerid değişkeninin bir indeks olduğunu biliyoruz. Bu sebeple bunu çıkaracağız. \n",
    "num_cols = [col for col in num_cols if col !=\"PassengerId\"]\n",
    "num_cols"
   ]
  },
  {
   "cell_type": "code",
   "execution_count": 80,
   "metadata": {},
   "outputs": [
    {
     "name": "stdout",
     "output_type": "stream",
     "text": [
      "Observations: 307511\n",
      "Variables: 122\n",
      "cat_cols: 54\n",
      "num_cols: 67\n",
      "cat_but_car: 1\n",
      "num_but_cat: 39\n"
     ]
    }
   ],
   "source": [
    "# Şimdi bir de bu çalışmamızı dff için deneyelim;\n",
    "\n",
    "cat_cols, num_cols, cat_but_car = grab_col_names(dff)\n"
   ]
  },
  {
   "cell_type": "code",
   "execution_count": 81,
   "metadata": {},
   "outputs": [],
   "source": [
    "# Aşağıda görüldüğü üzere \"SK_ID_CURR\" değişkeni de bu veri setinin ID'sidir. \n",
    "# Bu değişkeni numerik değişkenlerin içerisinden çıkarmak isteriz.\n",
    "\n",
    "num_cols = [col for col in num_cols if col !=\"SK_ID_CURR\"]"
   ]
  },
  {
   "cell_type": "code",
   "execution_count": 82,
   "metadata": {},
   "outputs": [
    {
     "name": "stdout",
     "output_type": "stream",
     "text": [
      "CNT_CHILDREN True\n",
      "AMT_INCOME_TOTAL True\n",
      "AMT_CREDIT True\n",
      "AMT_ANNUITY True\n",
      "AMT_GOODS_PRICE True\n",
      "REGION_POPULATION_RELATIVE True\n",
      "DAYS_BIRTH False\n",
      "DAYS_EMPLOYED True\n",
      "DAYS_REGISTRATION True\n",
      "DAYS_ID_PUBLISH False\n",
      "OWN_CAR_AGE True\n",
      "CNT_FAM_MEMBERS True\n",
      "HOUR_APPR_PROCESS_START True\n",
      "EXT_SOURCE_1 False\n",
      "EXT_SOURCE_2 False\n",
      "EXT_SOURCE_3 False\n",
      "APARTMENTS_AVG True\n",
      "BASEMENTAREA_AVG True\n",
      "YEARS_BEGINEXPLUATATION_AVG True\n",
      "YEARS_BUILD_AVG True\n",
      "COMMONAREA_AVG True\n",
      "ELEVATORS_AVG True\n",
      "ENTRANCES_AVG True\n",
      "FLOORSMAX_AVG True\n",
      "FLOORSMIN_AVG True\n",
      "LANDAREA_AVG True\n",
      "LIVINGAPARTMENTS_AVG True\n",
      "LIVINGAREA_AVG True\n",
      "NONLIVINGAPARTMENTS_AVG True\n",
      "NONLIVINGAREA_AVG True\n",
      "APARTMENTS_MODE True\n",
      "BASEMENTAREA_MODE True\n",
      "YEARS_BEGINEXPLUATATION_MODE True\n",
      "YEARS_BUILD_MODE True\n",
      "COMMONAREA_MODE True\n",
      "ELEVATORS_MODE True\n",
      "ENTRANCES_MODE True\n",
      "FLOORSMAX_MODE True\n",
      "FLOORSMIN_MODE True\n",
      "LANDAREA_MODE True\n",
      "LIVINGAPARTMENTS_MODE True\n",
      "LIVINGAREA_MODE True\n",
      "NONLIVINGAPARTMENTS_MODE True\n",
      "NONLIVINGAREA_MODE True\n",
      "APARTMENTS_MEDI True\n",
      "BASEMENTAREA_MEDI True\n",
      "YEARS_BEGINEXPLUATATION_MEDI True\n",
      "YEARS_BUILD_MEDI True\n",
      "COMMONAREA_MEDI True\n",
      "ELEVATORS_MEDI True\n",
      "ENTRANCES_MEDI True\n",
      "FLOORSMAX_MEDI True\n",
      "FLOORSMIN_MEDI True\n",
      "LANDAREA_MEDI True\n",
      "LIVINGAPARTMENTS_MEDI True\n",
      "LIVINGAREA_MEDI True\n",
      "NONLIVINGAPARTMENTS_MEDI True\n",
      "NONLIVINGAREA_MEDI True\n",
      "TOTALAREA_MODE True\n",
      "OBS_30_CNT_SOCIAL_CIRCLE True\n",
      "DEF_30_CNT_SOCIAL_CIRCLE True\n",
      "OBS_60_CNT_SOCIAL_CIRCLE True\n",
      "DAYS_LAST_PHONE_CHANGE True\n",
      "AMT_REQ_CREDIT_BUREAU_MON True\n",
      "AMT_REQ_CREDIT_BUREAU_QRT True\n",
      "AMT_REQ_CREDIT_BUREAU_YEAR True\n"
     ]
    }
   ],
   "source": [
    "num_cols = [col for col in num_cols if col !=\"SK_ID_CURR\"]\n",
    "\n",
    "for col in num_cols:\n",
    "    print(col, check_outlier(dff, col))"
   ]
  },
  {
   "attachments": {},
   "cell_type": "markdown",
   "metadata": {},
   "source": [
    "### 3. Aykırı Değerlerin Kendilerine Erişme"
   ]
  },
  {
   "cell_type": "code",
   "execution_count": 85,
   "metadata": {},
   "outputs": [],
   "source": [
    "# Aykırı değerlere erişme problemini de fonksiyonlaştıracağız.\n",
    "\n",
    "def grab_outliers(dataframe, col_name, index=False):\n",
    "    low, up = outlier_thresholds(dataframe, col_name)\n",
    "#Eğer aykırı değer 10dan büyükse head göstersin, değilse tüm değerleri getirsin diyoruz. \n",
    "    if dataframe[((dataframe[col_name] < low) | (dataframe[col_name] > up))].shape[0] > 10:\n",
    "        print(dataframe[((dataframe[col_name] < low) | (dataframe[col_name] > up))].head())\n",
    "    else:\n",
    "        print(dataframe[((dataframe[col_name] < low) | (dataframe[col_name] > up))])\n",
    "\n",
    "    if index:\n",
    "        outlier_index = dataframe[((dataframe[col_name] < low) | (dataframe[col_name] > up))].index\n",
    "        return outlier_index"
   ]
  },
  {
   "cell_type": "code",
   "execution_count": 86,
   "metadata": {},
   "outputs": [
    {
     "name": "stdout",
     "output_type": "stream",
     "text": [
      "     PassengerId  Survived  Pclass                            Name   Sex  \\\n",
      "33            34         0       2           Wheadon, Mr. Edward H  male   \n",
      "54            55         0       1  Ostby, Mr. Engelhart Cornelius  male   \n",
      "96            97         0       1       Goldschmidt, Mr. George B  male   \n",
      "116          117         0       3            Connors, Mr. Patrick  male   \n",
      "280          281         0       3                Duane, Mr. Frank  male   \n",
      "\n",
      "       Age  SibSp  Parch      Ticket   Fare Cabin Embarked  \n",
      "33  66.000      0      0  C.A. 24579 10.500   NaN        S  \n",
      "54  65.000      0      1      113509 61.979   B30        C  \n",
      "96  71.000      0      0    PC 17754 34.654    A5        C  \n",
      "116 70.500      0      0      370369  7.750   NaN        Q  \n",
      "280 65.000      0      0      336439  7.750   NaN        Q  \n"
     ]
    }
   ],
   "source": [
    "# Yaş değişkeninin aykırı değerlerine bakalım;\n",
    "\n",
    "grab_outliers(df, \"Age\")"
   ]
  },
  {
   "cell_type": "code",
   "execution_count": 87,
   "metadata": {},
   "outputs": [
    {
     "name": "stdout",
     "output_type": "stream",
     "text": [
      "     PassengerId  Survived  Pclass                            Name   Sex  \\\n",
      "33            34         0       2           Wheadon, Mr. Edward H  male   \n",
      "54            55         0       1  Ostby, Mr. Engelhart Cornelius  male   \n",
      "96            97         0       1       Goldschmidt, Mr. George B  male   \n",
      "116          117         0       3            Connors, Mr. Patrick  male   \n",
      "280          281         0       3                Duane, Mr. Frank  male   \n",
      "\n",
      "       Age  SibSp  Parch      Ticket   Fare Cabin Embarked  \n",
      "33  66.000      0      0  C.A. 24579 10.500   NaN        S  \n",
      "54  65.000      0      1      113509 61.979   B30        C  \n",
      "96  71.000      0      0    PC 17754 34.654    A5        C  \n",
      "116 70.500      0      0      370369  7.750   NaN        Q  \n",
      "280 65.000      0      0      336439  7.750   NaN        Q  \n"
     ]
    },
    {
     "data": {
      "text/plain": [
       "Int64Index([33, 54, 96, 116, 280, 456, 493, 630, 672, 745, 851], dtype='int64')"
      ]
     },
     "execution_count": 87,
     "metadata": {},
     "output_type": "execute_result"
    }
   ],
   "source": [
    "grab_outliers(df, \"Age\", True)"
   ]
  },
  {
   "cell_type": "code",
   "execution_count": 88,
   "metadata": {},
   "outputs": [],
   "source": [
    "# Şuana kadar aykırı değerleri gördük ve yakaladık. Şimdi ise bu değerleri çıkaracağız ya da görmezden geleceğiz. Bu problemi çözmeye uğraşacağız. "
   ]
  },
  {
   "attachments": {},
   "cell_type": "markdown",
   "metadata": {},
   "source": [
    "### 4. Aykırı Değer Problemini Çözme"
   ]
  },
  {
   "attachments": {},
   "cell_type": "markdown",
   "metadata": {},
   "source": [
    "\n",
    "### 4.1. Silme\n",
    "        Aykırı değer problemini çözmenin bir yolu da aykırı değerleri veri setinden silmektir."
   ]
  },
  {
   "cell_type": "code",
   "execution_count": 91,
   "metadata": {},
   "outputs": [
    {
     "name": "stdout",
     "output_type": "stream",
     "text": [
      "-26.724 65.6344\n"
     ]
    }
   ],
   "source": [
    "# Aykırı değerleri tanımlamak için alt ve üst limitlere ihtiyacımız var. Bu sebeple outlier_treshold fonksiyonunu kullanacağız. \n",
    "# Fare değişkenine yönelik lox and up değerlerini getirsin. \n",
    "low, up = outlier_thresholds(df, \"Fare\")\n",
    "print(low, up)\n"
   ]
  },
  {
   "cell_type": "code",
   "execution_count": 92,
   "metadata": {},
   "outputs": [
    {
     "data": {
      "text/plain": [
       "(891, 12)"
      ]
     },
     "execution_count": 92,
     "metadata": {},
     "output_type": "execute_result"
    }
   ],
   "source": [
    "# Veri setinde kaç değişken var bakalım; \n",
    "df.shape\n",
    "\n",
    "# 891 değişken olduğunu görüyoruz. "
   ]
  },
  {
   "cell_type": "code",
   "execution_count": 93,
   "metadata": {},
   "outputs": [
    {
     "data": {
      "text/plain": [
       "(775, 12)"
      ]
     },
     "execution_count": 93,
     "metadata": {},
     "output_type": "execute_result"
    }
   ],
   "source": [
    "# Veri setimizdeki aykırı olmayan değerlere de bakalım;\n",
    "\n",
    "df[~((df[\"Fare\"] < low) | (df[\"Fare\"] > up))].shape\n",
    "\n",
    "# 775 adet \"fare\"i aykırı olmayan değişkenimiz olduğunu görüyoruz. "
   ]
  },
  {
   "cell_type": "code",
   "execution_count": 94,
   "metadata": {},
   "outputs": [],
   "source": [
    "# Dataframe'deki ilgili değişken için aykırı değerleri silmek için bir fonksiyon yazalım;\n",
    "\n",
    "def remove_outlier(dataframe, col_name):\n",
    "    low_limit, up_limit = outlier_thresholds(dataframe, col_name)\n",
    "    df_without_outliers = dataframe[~((dataframe[col_name] < low_limit) | (dataframe[col_name] > up_limit))]\n",
    "    return df_without_outliers"
   ]
  },
  {
   "cell_type": "code",
   "execution_count": 95,
   "metadata": {},
   "outputs": [
    {
     "name": "stdout",
     "output_type": "stream",
     "text": [
      "Observations: 891\n",
      "Variables: 12\n",
      "cat_cols: 6\n",
      "num_cols: 3\n",
      "cat_but_car: 3\n",
      "num_but_cat: 4\n"
     ]
    }
   ],
   "source": [
    "# Aşinayız artık, numerik değişkenleri bulalım ilk önce;\n",
    "\n",
    "cat_cols, num_cols, cat_but_car = grab_col_names(df)\n",
    "num_cols = [col for col in num_cols if col not in \"PassengerId\"]"
   ]
  },
  {
   "cell_type": "code",
   "execution_count": 96,
   "metadata": {},
   "outputs": [
    {
     "data": {
      "text/plain": [
       "(891, 12)"
      ]
     },
     "execution_count": 96,
     "metadata": {},
     "output_type": "execute_result"
    }
   ],
   "source": [
    "# Verimizin shape'sine bir daha bakalım;\n",
    "\n",
    "df.shape"
   ]
  },
  {
   "cell_type": "code",
   "execution_count": 97,
   "metadata": {},
   "outputs": [],
   "source": [
    "for col in num_cols:\n",
    "    new_df = remove_outlier(df, col)"
   ]
  },
  {
   "cell_type": "code",
   "execution_count": 98,
   "metadata": {},
   "outputs": [
    {
     "data": {
      "text/plain": [
       "(775, 12)"
      ]
     },
     "execution_count": 98,
     "metadata": {},
     "output_type": "execute_result"
    }
   ],
   "source": [
    "# yeni veri setimizin shape'sine bakalım\n",
    "\n",
    "new_df.shape"
   ]
  },
  {
   "cell_type": "code",
   "execution_count": 99,
   "metadata": {},
   "outputs": [
    {
     "data": {
      "text/plain": [
       "116"
      ]
     },
     "execution_count": 99,
     "metadata": {},
     "output_type": "execute_result"
    }
   ],
   "source": [
    "df.shape[0] - new_df.shape[0]\n",
    "# görüldüğü üzere 166 tane gözlem silinmiştir. Böylece silme yöntemi ile aykırılıklardan kurtulduk. "
   ]
  },
  {
   "attachments": {},
   "cell_type": "markdown",
   "metadata": {},
   "source": [
    "        Bir hücredeki aykırılıktan dolayı o gözlemi silmeyi tercih ettiğimizde, diğer değişkenlerdeki gözlemlerden de oluyoruz. Bunun önüne geçebilmek için o aykırı değeri baskılamayı da tercih edebiliriz."
   ]
  },
  {
   "attachments": {},
   "cell_type": "markdown",
   "metadata": {},
   "source": [
    "\n",
    "### 4.2. Baskılama\n",
    "         Bu kısımda aykırı değerleri baskılayacağız. Buradaki aykırı değerleri eşik değerlerle değiştireceğiz."
   ]
  },
  {
   "cell_type": "code",
   "execution_count": 100,
   "metadata": {},
   "outputs": [
    {
     "name": "stdout",
     "output_type": "stream",
     "text": [
      "-26.724 65.6344\n"
     ]
    }
   ],
   "source": [
    "low, up = outlier_thresholds(df, \"Fare\")\n",
    "\n",
    "print(low, up)"
   ]
  },
  {
   "cell_type": "code",
   "execution_count": 101,
   "metadata": {},
   "outputs": [
    {
     "data": {
      "text/plain": [
       "1      71.283\n",
       "27    263.000\n",
       "31    146.521\n",
       "34     82.171\n",
       "52     76.729\n",
       "        ...  \n",
       "846    69.550\n",
       "849    89.104\n",
       "856   164.867\n",
       "863    69.550\n",
       "879    83.158\n",
       "Name: Fare, Length: 116, dtype: float64"
      ]
     },
     "execution_count": 101,
     "metadata": {},
     "output_type": "execute_result"
    }
   ],
   "source": [
    "df[((df[\"Fare\"] < low) | (df[\"Fare\"] > up))][\"Fare\"]"
   ]
  },
  {
   "cell_type": "code",
   "execution_count": 102,
   "metadata": {},
   "outputs": [
    {
     "data": {
      "text/plain": [
       "1      71.283\n",
       "27    263.000\n",
       "31    146.521\n",
       "34     82.171\n",
       "52     76.729\n",
       "        ...  \n",
       "846    69.550\n",
       "849    89.104\n",
       "856   164.867\n",
       "863    69.550\n",
       "879    83.158\n",
       "Name: Fare, Length: 116, dtype: float64"
      ]
     },
     "execution_count": 102,
     "metadata": {},
     "output_type": "execute_result"
    }
   ],
   "source": [
    "# Yukarıdaki işlemi .loc ile de yapabiliriz ;\n",
    "\n",
    "df.loc[((df[\"Fare\"] < low) | (df[\"Fare\"] > up)), \"Fare\"]"
   ]
  },
  {
   "cell_type": "code",
   "execution_count": 103,
   "metadata": {},
   "outputs": [],
   "source": [
    "# Şimdi loc ile getirdiğimiz değerleri yukarıda tanımlı \"up\" değerine eşitlersek üst limiti baskılamış oluruz.\n",
    "\n",
    "df.loc[(df[\"Fare\"] > up), \"Fare\"] = up\n"
   ]
  },
  {
   "cell_type": "code",
   "execution_count": 104,
   "metadata": {},
   "outputs": [],
   "source": [
    "# Aynı şekilde loc ile getirdiğimiz değerleri yukarıda tanımlı \"low\" değerine eşitlersek alt limiti baskılamış oluruz.\n",
    "\n",
    "df.loc[(df[\"Fare\"] < low), \"Fare\"] = low"
   ]
  },
  {
   "cell_type": "code",
   "execution_count": 105,
   "metadata": {},
   "outputs": [],
   "source": [
    "# Yukarıdaki işlemi fonksiyonlaştıralım;\n",
    "def replace_with_thresholds(dataframe, variable):\n",
    "    low_limit, up_limit = outlier_thresholds(dataframe, variable)\n",
    "    dataframe.loc[(dataframe[variable] < low_limit), variable] = low_limit\n",
    "    dataframe.loc[(dataframe[variable] > up_limit), variable] = up_limit"
   ]
  },
  {
   "cell_type": "code",
   "execution_count": 109,
   "metadata": {},
   "outputs": [
    {
     "data": {
      "text/html": [
       "<div>\n",
       "<style scoped>\n",
       "    .dataframe tbody tr th:only-of-type {\n",
       "        vertical-align: middle;\n",
       "    }\n",
       "\n",
       "    .dataframe tbody tr th {\n",
       "        vertical-align: top;\n",
       "    }\n",
       "\n",
       "    .dataframe thead th {\n",
       "        text-align: right;\n",
       "    }\n",
       "</style>\n",
       "<table border=\"1\" class=\"dataframe\">\n",
       "  <thead>\n",
       "    <tr style=\"text-align: right;\">\n",
       "      <th></th>\n",
       "      <th>PassengerId</th>\n",
       "      <th>Survived</th>\n",
       "      <th>Pclass</th>\n",
       "      <th>Name</th>\n",
       "      <th>Sex</th>\n",
       "      <th>Age</th>\n",
       "      <th>SibSp</th>\n",
       "      <th>Parch</th>\n",
       "      <th>Ticket</th>\n",
       "      <th>Fare</th>\n",
       "      <th>Cabin</th>\n",
       "      <th>Embarked</th>\n",
       "    </tr>\n",
       "  </thead>\n",
       "  <tbody>\n",
       "    <tr>\n",
       "      <th>0</th>\n",
       "      <td>1</td>\n",
       "      <td>0</td>\n",
       "      <td>3</td>\n",
       "      <td>Braund, Mr. Owen Harris</td>\n",
       "      <td>male</td>\n",
       "      <td>22.000</td>\n",
       "      <td>1</td>\n",
       "      <td>0</td>\n",
       "      <td>A/5 21171</td>\n",
       "      <td>7.250</td>\n",
       "      <td>NaN</td>\n",
       "      <td>S</td>\n",
       "    </tr>\n",
       "    <tr>\n",
       "      <th>1</th>\n",
       "      <td>2</td>\n",
       "      <td>1</td>\n",
       "      <td>1</td>\n",
       "      <td>Cumings, Mrs. John Bradley (Florence Briggs Th...</td>\n",
       "      <td>female</td>\n",
       "      <td>38.000</td>\n",
       "      <td>1</td>\n",
       "      <td>0</td>\n",
       "      <td>PC 17599</td>\n",
       "      <td>71.283</td>\n",
       "      <td>C85</td>\n",
       "      <td>C</td>\n",
       "    </tr>\n",
       "    <tr>\n",
       "      <th>2</th>\n",
       "      <td>3</td>\n",
       "      <td>1</td>\n",
       "      <td>3</td>\n",
       "      <td>Heikkinen, Miss. Laina</td>\n",
       "      <td>female</td>\n",
       "      <td>26.000</td>\n",
       "      <td>0</td>\n",
       "      <td>0</td>\n",
       "      <td>STON/O2. 3101282</td>\n",
       "      <td>7.925</td>\n",
       "      <td>NaN</td>\n",
       "      <td>S</td>\n",
       "    </tr>\n",
       "    <tr>\n",
       "      <th>3</th>\n",
       "      <td>4</td>\n",
       "      <td>1</td>\n",
       "      <td>1</td>\n",
       "      <td>Futrelle, Mrs. Jacques Heath (Lily May Peel)</td>\n",
       "      <td>female</td>\n",
       "      <td>35.000</td>\n",
       "      <td>1</td>\n",
       "      <td>0</td>\n",
       "      <td>113803</td>\n",
       "      <td>53.100</td>\n",
       "      <td>C123</td>\n",
       "      <td>S</td>\n",
       "    </tr>\n",
       "    <tr>\n",
       "      <th>4</th>\n",
       "      <td>5</td>\n",
       "      <td>0</td>\n",
       "      <td>3</td>\n",
       "      <td>Allen, Mr. William Henry</td>\n",
       "      <td>male</td>\n",
       "      <td>35.000</td>\n",
       "      <td>0</td>\n",
       "      <td>0</td>\n",
       "      <td>373450</td>\n",
       "      <td>8.050</td>\n",
       "      <td>NaN</td>\n",
       "      <td>S</td>\n",
       "    </tr>\n",
       "  </tbody>\n",
       "</table>\n",
       "</div>"
      ],
      "text/plain": [
       "   PassengerId  Survived  Pclass  \\\n",
       "0            1         0       3   \n",
       "1            2         1       1   \n",
       "2            3         1       3   \n",
       "3            4         1       1   \n",
       "4            5         0       3   \n",
       "\n",
       "                                                Name     Sex    Age  SibSp  \\\n",
       "0                            Braund, Mr. Owen Harris    male 22.000      1   \n",
       "1  Cumings, Mrs. John Bradley (Florence Briggs Th...  female 38.000      1   \n",
       "2                             Heikkinen, Miss. Laina  female 26.000      0   \n",
       "3       Futrelle, Mrs. Jacques Heath (Lily May Peel)  female 35.000      1   \n",
       "4                           Allen, Mr. William Henry    male 35.000      0   \n",
       "\n",
       "   Parch            Ticket   Fare Cabin Embarked  \n",
       "0      0         A/5 21171  7.250   NaN        S  \n",
       "1      0          PC 17599 71.283   C85        C  \n",
       "2      0  STON/O2. 3101282  7.925   NaN        S  \n",
       "3      0            113803 53.100  C123        S  \n",
       "4      0            373450  8.050   NaN        S  "
      ]
     },
     "execution_count": 109,
     "metadata": {},
     "output_type": "execute_result"
    }
   ],
   "source": [
    "# Her şeye sıfırdan başlamak için df'e bir reset atacağız;\n",
    "\n",
    "df = load()\n",
    "df.head()"
   ]
  },
  {
   "cell_type": "code",
   "execution_count": 110,
   "metadata": {},
   "outputs": [
    {
     "name": "stdout",
     "output_type": "stream",
     "text": [
      "Observations: 891\n",
      "Variables: 12\n",
      "cat_cols: 6\n",
      "num_cols: 3\n",
      "cat_but_car: 3\n",
      "num_but_cat: 4\n"
     ]
    }
   ],
   "source": [
    "# kategorik, numerik ve kardinal değişkenleri bir yakalayalım\n",
    "\n",
    "cat_cols, num_cols, cat_but_car = grab_col_names(df)"
   ]
  },
  {
   "cell_type": "code",
   "execution_count": 111,
   "metadata": {},
   "outputs": [],
   "source": [
    "# numerik değişkenlerden indeksi çıkartalım;\n",
    "\n",
    "num_cols = [col for col in num_cols if col not in \"PassengerId\"]"
   ]
  },
  {
   "cell_type": "code",
   "execution_count": 112,
   "metadata": {},
   "outputs": [
    {
     "data": {
      "text/plain": [
       "(891, 12)"
      ]
     },
     "execution_count": 112,
     "metadata": {},
     "output_type": "execute_result"
    }
   ],
   "source": [
    "# dataframe'mimizin shape'sine bakalım;\n",
    "\n",
    "df.shape"
   ]
  },
  {
   "cell_type": "code",
   "execution_count": 113,
   "metadata": {},
   "outputs": [
    {
     "name": "stdout",
     "output_type": "stream",
     "text": [
      "Age True\n",
      "Fare True\n"
     ]
    }
   ],
   "source": [
    "# Aykırı değer var mı bir kontrol edelim;\n",
    "\n",
    "for col in num_cols:\n",
    "    print(col, check_outlier(df, col))\n",
    "\n",
    "# Aşağıda görüyoruz ki varmış."
   ]
  },
  {
   "cell_type": "code",
   "execution_count": 114,
   "metadata": {},
   "outputs": [],
   "source": [
    "# Şimdi ise numerik değişkenlerdeki outlier değerleri baskılayacağız;\n",
    "\n",
    "for col in num_cols:\n",
    "    replace_with_thresholds(df, col)"
   ]
  },
  {
   "cell_type": "code",
   "execution_count": 115,
   "metadata": {},
   "outputs": [
    {
     "name": "stdout",
     "output_type": "stream",
     "text": [
      "Age False\n",
      "Fare False\n"
     ]
    }
   ],
   "source": [
    "# Bir kez daha kontrol edelim aykırı değer kalmış mı;\n",
    "\n",
    "for col in num_cols:\n",
    "    print(col, check_outlier(df, col))\n",
    "\n",
    "# Kalmadığını görüyoruz."
   ]
  },
  {
   "attachments": {},
   "cell_type": "markdown",
   "metadata": {},
   "source": [
    "### 5. Çok Değişkenli Aykırı Değer Analizi: Local Outlier Factor"
   ]
  },
  {
   "attachments": {},
   "cell_type": "markdown",
   "metadata": {},
   "source": [
    "- Tek başına aykırı değer olmayan bazı değişkenler birlikte bakıldığında aykırı değer olabilir. Buna çok değişkenli etki denmektedir;\n",
    "- Örneğin elimizde iki değişken var (yaş ve evlilik sayısı). 3 kere evlenmiş olmak bir aykırı değer olmayabilir ve 17 yaşında olmak da bir aykırı değer olmayabilir. Ancak 17 yaşında 3 kere evlenmiş olmak durumu bir aykırı değerdir. "
   ]
  },
  {
   "attachments": {},
   "cell_type": "markdown",
   "metadata": {},
   "source": [
    "Local Outlier Factor (LOF) aykırı değer belirleme yöntemidir. LOF yöntemi ile gözlemleri bulundukları konumda yoğunluk tabanlı skorlayarak buna göre aykırı değer olabilecek değerleri tanıma imkanı sağlar.\n",
    "\n",
    "Bir noktanın lokal yoğunluğu ise ilgili noktanın etrafındaki komşulukları ifade etmektedir. Eğer ki bir nokta komşularının yoğunluğundan anlamlı derece de uzak ise bu nokta daha seyrek bir bölgededir ve aykırı değer olabilir yorumu yapılır.\n",
    "\n",
    "Aşağıdaki göreseldeki A noktası diğer noktalardan anlamlı derecede uzaktır, aykırı değer olabilir yorumunu yapabiliriz."
   ]
  },
  {
   "attachments": {},
   "cell_type": "markdown",
   "metadata": {},
   "source": [
    "<p align=\"center\" > \n",
    "    <img src = \"2560px-LOF-idea.svg.png\" width = \"300\" />\n",
    "</p>"
   ]
  },
  {
   "attachments": {},
   "cell_type": "markdown",
   "metadata": {},
   "source": [
    "LOF yöntemi için aşağıdaki 2 boyutlu grafiğimizi ele alalım. LOF yöntemi sonucu bizler bir skor hesaplarız ve bu hesabın sonucu 1'e ne kadar yakınsa bizim için o değerin inlier (outlier değil) olma olasılığı o kadar fazladır. \n",
    "\n",
    "Eğer ki bu skor 1'den ne kadar uzaksa ilgili gözlemin outlier olma olasılığının arttığını görürüz.\n",
    "\n",
    "Tabi bizler de bu skorlar için eşik değerler belirleyebiliriz. Yukarıdaki grafik için eşik değerimizi 5 olarak belirlersek 2 bariz değeri outlier olmuş olur."
   ]
  },
  {
   "attachments": {},
   "cell_type": "markdown",
   "metadata": {},
   "source": [
    "<p align=\"center\" >    \n",
    "    <img src = \"2880px-LOF.svg.png\" width = \"500\"/>\n",
    "\n",
    "</p>"
   ]
  },
  {
   "attachments": {},
   "cell_type": "markdown",
   "metadata": {},
   "source": [
    "        Elimizde iki değişken olduğu zaman yukarıdaki grafik gibi bir görselleştirme yapılabilir. Lakin elimizde yüzlerce değişken var ise ne yapacağız?\n",
    "\n",
    "Elimizde yüzlerce değişken var ve biz bu değişkenleri iki boyutta göstermek istiyorsak;\n",
    "- Elimizdeki değişkenlerdeki bilgilerin büyük bir miktarını taşıdığı varsayılan iki değişkene indirgeyebilirsek bu soruna bir çözüm getirmiş oluruz.\n",
    "- Bunu da PCA (Principal Component Analsysis veya Temel Bileşen Analizi) yöntemi ile yapabiliriz."
   ]
  },
  {
   "cell_type": "code",
   "execution_count": 119,
   "metadata": {},
   "outputs": [
    {
     "data": {
      "text/html": [
       "<div>\n",
       "<style scoped>\n",
       "    .dataframe tbody tr th:only-of-type {\n",
       "        vertical-align: middle;\n",
       "    }\n",
       "\n",
       "    .dataframe tbody tr th {\n",
       "        vertical-align: top;\n",
       "    }\n",
       "\n",
       "    .dataframe thead th {\n",
       "        text-align: right;\n",
       "    }\n",
       "</style>\n",
       "<table border=\"1\" class=\"dataframe\">\n",
       "  <thead>\n",
       "    <tr style=\"text-align: right;\">\n",
       "      <th></th>\n",
       "      <th>carat</th>\n",
       "      <th>depth</th>\n",
       "      <th>table</th>\n",
       "      <th>price</th>\n",
       "      <th>x</th>\n",
       "      <th>y</th>\n",
       "      <th>z</th>\n",
       "    </tr>\n",
       "  </thead>\n",
       "  <tbody>\n",
       "    <tr>\n",
       "      <th>0</th>\n",
       "      <td>0.230</td>\n",
       "      <td>61.500</td>\n",
       "      <td>55.000</td>\n",
       "      <td>326</td>\n",
       "      <td>3.950</td>\n",
       "      <td>3.980</td>\n",
       "      <td>2.430</td>\n",
       "    </tr>\n",
       "    <tr>\n",
       "      <th>1</th>\n",
       "      <td>0.210</td>\n",
       "      <td>59.800</td>\n",
       "      <td>61.000</td>\n",
       "      <td>326</td>\n",
       "      <td>3.890</td>\n",
       "      <td>3.840</td>\n",
       "      <td>2.310</td>\n",
       "    </tr>\n",
       "    <tr>\n",
       "      <th>2</th>\n",
       "      <td>0.230</td>\n",
       "      <td>56.900</td>\n",
       "      <td>65.000</td>\n",
       "      <td>327</td>\n",
       "      <td>4.050</td>\n",
       "      <td>4.070</td>\n",
       "      <td>2.310</td>\n",
       "    </tr>\n",
       "    <tr>\n",
       "      <th>3</th>\n",
       "      <td>0.290</td>\n",
       "      <td>62.400</td>\n",
       "      <td>58.000</td>\n",
       "      <td>334</td>\n",
       "      <td>4.200</td>\n",
       "      <td>4.230</td>\n",
       "      <td>2.630</td>\n",
       "    </tr>\n",
       "    <tr>\n",
       "      <th>4</th>\n",
       "      <td>0.310</td>\n",
       "      <td>63.300</td>\n",
       "      <td>58.000</td>\n",
       "      <td>335</td>\n",
       "      <td>4.340</td>\n",
       "      <td>4.350</td>\n",
       "      <td>2.750</td>\n",
       "    </tr>\n",
       "  </tbody>\n",
       "</table>\n",
       "</div>"
      ],
      "text/plain": [
       "   carat  depth  table  price     x     y     z\n",
       "0  0.230 61.500 55.000    326 3.950 3.980 2.430\n",
       "1  0.210 59.800 61.000    326 3.890 3.840 2.310\n",
       "2  0.230 56.900 65.000    327 4.050 4.070 2.310\n",
       "3  0.290 62.400 58.000    334 4.200 4.230 2.630\n",
       "4  0.310 63.300 58.000    335 4.340 4.350 2.750"
      ]
     },
     "execution_count": 119,
     "metadata": {},
     "output_type": "execute_result"
    }
   ],
   "source": [
    "# diamonds verisini seaborn kütüphanesinden sadece sayısal değişkenlerini getirecek ve eksik değerleri drop ederek çağırıyoruz.\n",
    "\n",
    "df = sns.load_dataset('diamonds')\n",
    "df = df.select_dtypes(include=['float64', 'int64'])\n",
    "df = df.dropna()\n",
    "df.head()"
   ]
  },
  {
   "cell_type": "code",
   "execution_count": 120,
   "metadata": {},
   "outputs": [
    {
     "name": "stdout",
     "output_type": "stream",
     "text": [
      "carat True\n",
      "depth True\n",
      "table True\n",
      "price True\n",
      "x True\n",
      "y True\n",
      "z True\n"
     ]
    }
   ],
   "source": [
    "# bizim chech_outlier fonksiyonumuz bulunmaktaydı, aykırı değer olup olmadığını bir kontrol etmek istersek;\n",
    "\n",
    "for col in df.columns:\n",
    "    print(col, check_outlier(df, col))\n",
    "\n",
    "# Görüldüğü üzere bütün değişkenlerimizde aykırı değer bulunmaktadır."
   ]
  },
  {
   "cell_type": "code",
   "execution_count": 121,
   "metadata": {},
   "outputs": [
    {
     "data": {
      "text/plain": [
       "(1889, 7)"
      ]
     },
     "execution_count": 121,
     "metadata": {},
     "output_type": "execute_result"
    }
   ],
   "source": [
    "# carat değişkeninde kaç adet aykırı değer olduğunu bulmak istersek;\n",
    "\n",
    "low, up = outlier_thresholds(df, \"carat\")\n",
    "\n",
    "df[(df[\"carat\"] < low) | (df[\"carat\"] > up)].shape\n",
    "\n",
    "# carat değişkeni için  1889 adet aykırı değer olduğunu görmekteyiz."
   ]
  },
  {
   "cell_type": "code",
   "execution_count": 122,
   "metadata": {},
   "outputs": [
    {
     "data": {
      "text/plain": [
       "(53940, 7)"
      ]
     },
     "execution_count": 122,
     "metadata": {},
     "output_type": "execute_result"
    }
   ],
   "source": [
    "# Veri setindeki değişken sayısını görmek istersek;\n",
    "\n",
    "df.shape\n",
    "\n",
    "# 53490 değişken olduğunu görüyoruz."
   ]
  },
  {
   "cell_type": "code",
   "execution_count": 123,
   "metadata": {},
   "outputs": [
    {
     "data": {
      "text/plain": [
       "(2545, 7)"
      ]
     },
     "execution_count": 123,
     "metadata": {},
     "output_type": "execute_result"
    }
   ],
   "source": [
    "# depth değişkeninde kaç adet aykırı değer olduğunu bulmak istersek;\n",
    "\n",
    "low, up = outlier_thresholds(df, \"depth\")\n",
    "\n",
    "df[(df[\"depth\"] < low) | (df[\"depth\"] > up)].shape\n",
    "\n",
    "# 2545 adet aykırı değer olduğunu görebiliriz."
   ]
  },
  {
   "attachments": {},
   "cell_type": "markdown",
   "metadata": {},
   "source": [
    "### Yorum\n",
    "\n",
    "Şimdi verimize baktığımızda 53940 adet değişken olduğunu görüyoruz. Verimizdeki aykırı değerleri değiştirmek (silmek veya baskılamak) istersek bir takım problemlerele kaşılaşacağız.\n",
    "\n",
    " \"carat\" değişkenini ele alalım. 1889 adet aykırı değişken bulunuyor. Bu aykırı değişkenlere müdahale etmek istersek, carat değişkeninin %3'lük bir kısmına müdahale etmiş oluruz. Geliştiricinin yorumlamasına bağlı olarak bu oranın yüksek bir oran olduğunu söyleyebiliriz.\n",
    "\n",
    " \"depth\" değişkenine müdahale etmek istersek, değişkenin %4'üne müdahale etmiş oluruz. Her değişkenine müdahael ettiğimizde, kümülatif olarak totalde belki de verinin %5'lik bir kısmına müdahalede bulunmuş olacağız.\n",
    "\n",
    "Daha görmedik lakin **makine öğrenmesinde** karar ağacı kullandığımız yerlerde veriye zaten pek de müdahale etmiyor olmamız gerekmektedir.\n",
    "\n",
    "Peki bu durumda ne yapmamız gerekiyor. Notebook'un başlarında **outlier_tresholds** diye bir değişken tanımlamıştık. \n",
    "Bu değişkeni tanımlarken de interquartile range (iqr) hesaplaması yapmıştık. \n",
    "\n",
    "Bu formülü hatırlayacak olursak **IQR = Q3 - Q1**'di. Q3 üçüncü çeyrek, Q1 ise birinci çeyrekti. \n",
    "\n",
    "Şimdi biz bu IQR değerini tam çeyreklerden değil de verinin ilk %2,5'luk ve son %2,5'luk değerlerin farkı olarak hesaplarsak, doğal olarak eşik değerlerimiz konusunda daha esnek davranmış oluruz. \n",
    "\n",
    "IQR'in tanımı çeyrekler açıklığı olsa da biz verimizdeki aykırı değerler üzerinde alacağımız aksiyonlarda biraz daha esnek olma yönünde kararlar vereceğiz ve gerçekten aykırı sayılabilecek değerleri bulmaya çalışacağız."
   ]
  },
  {
   "cell_type": "code",
   "execution_count": 124,
   "metadata": {},
   "outputs": [
    {
     "name": "stdout",
     "output_type": "stream",
     "text": [
      "-6.6875 64.8125\n"
     ]
    }
   ],
   "source": [
    "# Bu duruma bir örnek vermek istersek;\n",
    "\n",
    "df_titanic = load()\n",
    "\n",
    "low_titanic_age, up_titanic_age = outlier_thresholds(df_titanic, \"Age\")\n",
    "print(low_titanic_age, up_titanic_age)"
   ]
  },
  {
   "cell_type": "code",
   "execution_count": 125,
   "metadata": {},
   "outputs": [
    {
     "data": {
      "text/plain": [
       "33    66.000\n",
       "54    65.000\n",
       "96    71.000\n",
       "116   70.500\n",
       "280   65.000\n",
       "456   65.000\n",
       "493   71.000\n",
       "630   80.000\n",
       "672   70.000\n",
       "745   70.000\n",
       "851   74.000\n",
       "Name: Age, dtype: float64"
      ]
     },
     "execution_count": 125,
     "metadata": {},
     "output_type": "execute_result"
    }
   ],
   "source": [
    "df_titanic[(df_titanic[\"Age\"] < low_titanic_age) | (df_titanic[\"Age\"] > up_titanic_age)][\"Age\"]\n",
    "\n",
    "# Aşaıdaki veriler incelendiğinde en yüksek yaşın 80 olduğunu görüyoruz, 80 yaşında birisinin de gemide olması anormal bir durum değildir.\n",
    "# Örneğin 150 gibi bir değer olsaydı bu değere aykırıdır diyebilirdir.\n",
    "\n",
    "# Lakin direk çeyrekler açıklığına bakıldığında yaşı 66 olan birisinin bile aykırı bir değer olduğunu söylememiz gerekir.\n",
    "# Bu sebeple aykırı değer hesaplanmasında daha esnek olunabilir."
   ]
  },
  {
   "cell_type": "markdown",
   "metadata": {},
   "source": [
    "Yukarıdaki işlemler tek bir değişen üzerinden aykırı değer tespitine yönelik bir hatırtama ve yorumdu."
   ]
  },
  {
   "cell_type": "code",
   "execution_count": 126,
   "metadata": {},
   "outputs": [],
   "source": [
    "# Şimdi çok factorlü bir şekilde incelemek istersek, LOF metodunu kullanacaktır.\n",
    "\n",
    "# Bunun için bir LocalOutlierFactor() fonsiyonunu kullanıyoruz ve içerisine argüman giriyoruz. \n",
    "# Burada argümanın in tanımlı değeri olan 20'yi kullanmayı tercih edebiliriz veya bu komşuluk değerini arttırıp azaltabiliriz.\n",
    "\n",
    "# Lakin burada bir sorun karşımıza çıkmaktadır. \n",
    "# Bu değiştime sonucunda hesaplanan komşuluk skorlarının hangisinin daha iyi olduğunun yorumlayamamaktayız.\n",
    "\n",
    "clf = LocalOutlierFactor(n_neighbors=20)"
   ]
  },
  {
   "cell_type": "code",
   "execution_count": 127,
   "metadata": {},
   "outputs": [
    {
     "data": {
      "text/plain": [
       "array([-1, -1, -1, ...,  1,  1,  1])"
      ]
     },
     "execution_count": 127,
     "metadata": {},
     "output_type": "execute_result"
    }
   ],
   "source": [
    "# Yöntemimizi getirdik. Şimdi veri setimize uygulayalım.\n",
    "\n",
    "clf.fit_predict(df)"
   ]
  },
  {
   "cell_type": "code",
   "execution_count": 128,
   "metadata": {},
   "outputs": [
    {
     "data": {
      "text/plain": [
       "array([-1.58352526, -1.59732899, -1.62278873, ..., -1.06721815,\n",
       "       -1.00809552, -1.00849038])"
      ]
     },
     "execution_count": 128,
     "metadata": {},
     "output_type": "execute_result"
    }
   ],
   "source": [
    "# Şimdi ise bu değerleri kaydediyoruz;\n",
    "\n",
    "df_scores = clf.negative_outlier_factor_\n",
    "df_scores\n",
    "\n",
    "# Aşağıdaki değerler local outlier factor skorlarıdır. Lakin yukarıda kullandığımız metod bize bu skorları eksi değerler ile verdi.\n",
    "# df_scores = -df_scores\n",
    "# Yukarıdaki gibi skorları -1 ile çarparak + değerlere dönüşüm yapılabilir.\n",
    "# Lakin biz bunları eksi değerlere göre değerlendiriyor olacağız. "
   ]
  },
  {
   "cell_type": "code",
   "execution_count": 129,
   "metadata": {},
   "outputs": [
    {
     "data": {
      "text/plain": [
       "array([-8.60430658, -8.20889984, -5.86084355, -4.98415175, -4.81502092])"
      ]
     },
     "execution_count": 129,
     "metadata": {},
     "output_type": "execute_result"
    }
   ],
   "source": [
    "# Yani buradaki değerlerin 1'e yakın olması inlier değer olduğunu gösteriyordu, şu anda ise -1'e yakın olması inlier değer olduğunu gösterecek.\n",
    "# Bu sebeple değerlei küçükten büyüğe sıralayıp en kötü değerlerimizi görelim;\n",
    "\n",
    "np.sort(df_scores)[0:5]\n"
   ]
  },
  {
   "cell_type": "code",
   "execution_count": 130,
   "metadata": {},
   "outputs": [
    {
     "data": {
      "image/png": "[encoded data removed]",
      "text/plain": [
       "<Figure size 640x480 with 1 Axes>"
      ]
     },
     "metadata": {},
     "output_type": "display_data"
    }
   ],
   "source": [
    "# Burada bir eşik değer belirleyip o değerden küçük olanlar outlier'dır dememiz gerekmektedir.\n",
    "# Lakin bu eşik değer nasıl belirlenbilir?\n",
    "\n",
    "# Bunun için \"elbow\" metodunu uygulayacağız.\n",
    "\n",
    "scores = pd.DataFrame(np.sort(df_scores))\n",
    "scores.plot(stacked=True, xlim=[0, 50], style='.-')\n",
    "plt.show()\n",
    "\n",
    "# \"xlim=\" argümanına kaç değer gösterileceğini söyleriz.\n",
    "# \"style=\" argümanına \"*-\" değeri ile grafiğin çizgi grafi olması gerektiği ve değerleri belirtmesi gerektiğini ifade ediyoruz.\n",
    "\n",
    "# Aşağıdaki grafik bir dirseğe benzemekte ve biz en keskin, sert dönüşün olduğu yeri eşik değer olarak belirleyeceğiz.\n",
    "# Burada ise 3. indekste en keskin dönüşü görebiliyoruz\n",
    "# Bir geliştirici olarak burayı eşik değer olarak yorumlayabiliriz."
   ]
  },
  {
   "cell_type": "code",
   "execution_count": 131,
   "metadata": {},
   "outputs": [
    {
     "data": {
      "text/plain": [
       "-4.984151747711709"
      ]
     },
     "execution_count": 131,
     "metadata": {},
     "output_type": "execute_result"
    }
   ],
   "source": [
    "# Yukarda 3. indeks olarak belirlediğimiz eşik değeri bulmak için;\n",
    "\n",
    "th = np.sort(df_scores)[3]\n",
    "th"
   ]
  },
  {
   "cell_type": "code",
   "execution_count": 133,
   "metadata": {},
   "outputs": [
    {
     "data": {
      "text/html": [
       "<div>\n",
       "<style scoped>\n",
       "    .dataframe tbody tr th:only-of-type {\n",
       "        vertical-align: middle;\n",
       "    }\n",
       "\n",
       "    .dataframe tbody tr th {\n",
       "        vertical-align: top;\n",
       "    }\n",
       "\n",
       "    .dataframe thead th {\n",
       "        text-align: right;\n",
       "    }\n",
       "</style>\n",
       "<table border=\"1\" class=\"dataframe\">\n",
       "  <thead>\n",
       "    <tr style=\"text-align: right;\">\n",
       "      <th></th>\n",
       "      <th>carat</th>\n",
       "      <th>depth</th>\n",
       "      <th>table</th>\n",
       "      <th>price</th>\n",
       "      <th>x</th>\n",
       "      <th>y</th>\n",
       "      <th>z</th>\n",
       "    </tr>\n",
       "  </thead>\n",
       "  <tbody>\n",
       "    <tr>\n",
       "      <th>41918</th>\n",
       "      <td>1.030</td>\n",
       "      <td>78.200</td>\n",
       "      <td>54.000</td>\n",
       "      <td>1262</td>\n",
       "      <td>5.720</td>\n",
       "      <td>5.590</td>\n",
       "      <td>4.420</td>\n",
       "    </tr>\n",
       "    <tr>\n",
       "      <th>48410</th>\n",
       "      <td>0.510</td>\n",
       "      <td>61.800</td>\n",
       "      <td>54.700</td>\n",
       "      <td>1970</td>\n",
       "      <td>5.120</td>\n",
       "      <td>5.150</td>\n",
       "      <td>31.800</td>\n",
       "    </tr>\n",
       "    <tr>\n",
       "      <th>49189</th>\n",
       "      <td>0.510</td>\n",
       "      <td>61.800</td>\n",
       "      <td>55.000</td>\n",
       "      <td>2075</td>\n",
       "      <td>5.150</td>\n",
       "      <td>31.800</td>\n",
       "      <td>5.120</td>\n",
       "    </tr>\n",
       "  </tbody>\n",
       "</table>\n",
       "</div>"
      ],
      "text/plain": [
       "       carat  depth  table  price     x      y      z\n",
       "41918  1.030 78.200 54.000   1262 5.720  5.590  4.420\n",
       "48410  0.510 61.800 54.700   1970 5.120  5.150 31.800\n",
       "49189  0.510 61.800 55.000   2075 5.150 31.800  5.120"
      ]
     },
     "execution_count": 133,
     "metadata": {},
     "output_type": "execute_result"
    }
   ],
   "source": [
    "# Şimdi ise aykırı değer sayılan gözlemlerimize bakalım;\n",
    "\n",
    "df[df_scores < th]\n",
    "\n",
    "# Bunlar neden aykırı bilmiyoruz. Normalde tek başına depth,carat gibi değerlere baktığımızda yüzlerce aykırı değer gelmişti. \n",
    "# Şimdi ise 3 adet aykırı değer olduğunu görüyoruz. \n",
    "\n",
    "\n"
   ]
  },
  {
   "attachments": {},
   "cell_type": "markdown",
   "metadata": {},
   "source": [
    "        Çok değişkenli aykırı değer analizi yaptığımız için 3 adet aykırı değer çıktı, peki neden bu değerler aykırı?"
   ]
  },
  {
   "cell_type": "code",
   "execution_count": 134,
   "metadata": {},
   "outputs": [
    {
     "data": {
      "text/html": [
       "<div>\n",
       "<style scoped>\n",
       "    .dataframe tbody tr th:only-of-type {\n",
       "        vertical-align: middle;\n",
       "    }\n",
       "\n",
       "    .dataframe tbody tr th {\n",
       "        vertical-align: top;\n",
       "    }\n",
       "\n",
       "    .dataframe thead th {\n",
       "        text-align: right;\n",
       "    }\n",
       "</style>\n",
       "<table border=\"1\" class=\"dataframe\">\n",
       "  <thead>\n",
       "    <tr style=\"text-align: right;\">\n",
       "      <th></th>\n",
       "      <th>count</th>\n",
       "      <th>mean</th>\n",
       "      <th>std</th>\n",
       "      <th>min</th>\n",
       "      <th>1%</th>\n",
       "      <th>5%</th>\n",
       "      <th>25%</th>\n",
       "      <th>50%</th>\n",
       "      <th>75%</th>\n",
       "      <th>90%</th>\n",
       "      <th>99%</th>\n",
       "      <th>max</th>\n",
       "    </tr>\n",
       "  </thead>\n",
       "  <tbody>\n",
       "    <tr>\n",
       "      <th>carat</th>\n",
       "      <td>53940.000</td>\n",
       "      <td>0.798</td>\n",
       "      <td>0.474</td>\n",
       "      <td>0.200</td>\n",
       "      <td>0.240</td>\n",
       "      <td>0.300</td>\n",
       "      <td>0.400</td>\n",
       "      <td>0.700</td>\n",
       "      <td>1.040</td>\n",
       "      <td>1.510</td>\n",
       "      <td>2.180</td>\n",
       "      <td>5.010</td>\n",
       "    </tr>\n",
       "    <tr>\n",
       "      <th>depth</th>\n",
       "      <td>53940.000</td>\n",
       "      <td>61.749</td>\n",
       "      <td>1.433</td>\n",
       "      <td>43.000</td>\n",
       "      <td>57.900</td>\n",
       "      <td>59.300</td>\n",
       "      <td>61.000</td>\n",
       "      <td>61.800</td>\n",
       "      <td>62.500</td>\n",
       "      <td>63.300</td>\n",
       "      <td>65.600</td>\n",
       "      <td>79.000</td>\n",
       "    </tr>\n",
       "    <tr>\n",
       "      <th>table</th>\n",
       "      <td>53940.000</td>\n",
       "      <td>57.457</td>\n",
       "      <td>2.234</td>\n",
       "      <td>43.000</td>\n",
       "      <td>53.000</td>\n",
       "      <td>54.000</td>\n",
       "      <td>56.000</td>\n",
       "      <td>57.000</td>\n",
       "      <td>59.000</td>\n",
       "      <td>60.000</td>\n",
       "      <td>64.000</td>\n",
       "      <td>95.000</td>\n",
       "    </tr>\n",
       "    <tr>\n",
       "      <th>price</th>\n",
       "      <td>53940.000</td>\n",
       "      <td>3932.800</td>\n",
       "      <td>3989.440</td>\n",
       "      <td>326.000</td>\n",
       "      <td>429.000</td>\n",
       "      <td>544.000</td>\n",
       "      <td>950.000</td>\n",
       "      <td>2401.000</td>\n",
       "      <td>5324.250</td>\n",
       "      <td>9821.000</td>\n",
       "      <td>17378.220</td>\n",
       "      <td>18823.000</td>\n",
       "    </tr>\n",
       "    <tr>\n",
       "      <th>x</th>\n",
       "      <td>53940.000</td>\n",
       "      <td>5.731</td>\n",
       "      <td>1.122</td>\n",
       "      <td>0.000</td>\n",
       "      <td>4.020</td>\n",
       "      <td>4.290</td>\n",
       "      <td>4.710</td>\n",
       "      <td>5.700</td>\n",
       "      <td>6.540</td>\n",
       "      <td>7.310</td>\n",
       "      <td>8.360</td>\n",
       "      <td>10.740</td>\n",
       "    </tr>\n",
       "    <tr>\n",
       "      <th>y</th>\n",
       "      <td>53940.000</td>\n",
       "      <td>5.735</td>\n",
       "      <td>1.142</td>\n",
       "      <td>0.000</td>\n",
       "      <td>4.040</td>\n",
       "      <td>4.300</td>\n",
       "      <td>4.720</td>\n",
       "      <td>5.710</td>\n",
       "      <td>6.540</td>\n",
       "      <td>7.300</td>\n",
       "      <td>8.340</td>\n",
       "      <td>58.900</td>\n",
       "    </tr>\n",
       "    <tr>\n",
       "      <th>z</th>\n",
       "      <td>53940.000</td>\n",
       "      <td>3.539</td>\n",
       "      <td>0.706</td>\n",
       "      <td>0.000</td>\n",
       "      <td>2.480</td>\n",
       "      <td>2.650</td>\n",
       "      <td>2.910</td>\n",
       "      <td>3.530</td>\n",
       "      <td>4.040</td>\n",
       "      <td>4.520</td>\n",
       "      <td>5.150</td>\n",
       "      <td>31.800</td>\n",
       "    </tr>\n",
       "  </tbody>\n",
       "</table>\n",
       "</div>"
      ],
      "text/plain": [
       "          count     mean      std     min      1%      5%     25%      50%  \\\n",
       "carat 53940.000    0.798    0.474   0.200   0.240   0.300   0.400    0.700   \n",
       "depth 53940.000   61.749    1.433  43.000  57.900  59.300  61.000   61.800   \n",
       "table 53940.000   57.457    2.234  43.000  53.000  54.000  56.000   57.000   \n",
       "price 53940.000 3932.800 3989.440 326.000 429.000 544.000 950.000 2401.000   \n",
       "x     53940.000    5.731    1.122   0.000   4.020   4.290   4.710    5.700   \n",
       "y     53940.000    5.735    1.142   0.000   4.040   4.300   4.720    5.710   \n",
       "z     53940.000    3.539    0.706   0.000   2.480   2.650   2.910    3.530   \n",
       "\n",
       "           75%      90%       99%       max  \n",
       "carat    1.040    1.510     2.180     5.010  \n",
       "depth   62.500   63.300    65.600    79.000  \n",
       "table   59.000   60.000    64.000    95.000  \n",
       "price 5324.250 9821.000 17378.220 18823.000  \n",
       "x        6.540    7.310     8.360    10.740  \n",
       "y        6.540    7.300     8.340    58.900  \n",
       "z        4.040    4.520     5.150    31.800  "
      ]
     },
     "execution_count": 134,
     "metadata": {},
     "output_type": "execute_result"
    }
   ],
   "source": [
    "# Verimizin betimsel istatistiklerini getirip bu durumu açıklayalım;\n",
    "\n",
    "df.describe([0.01, 0.05, 0.25, 0.75, 0.90, 0.99]).T"
   ]
  },
  {
   "cell_type": "markdown",
   "metadata": {},
   "source": [
    "Gözlem değerlerini betimsel istatistik tablomuzla yorumlayalım.\n",
    "\n",
    "    * İlk satırdaki verilerin ortalamaya olan uzaklığına bir bakalım;\n",
    "        * carat ortalama değere yakın ve max ve min noktalardan uzak,\n",
    "        * depth maksimum değere çok yakın,\n",
    "        * table ortalamaya yakın,\n",
    "        * price değeri %25'lik değer ile %50'lik değer arasında,\n",
    "        * x, y ve z değerleri de ortalamaya yakın\n",
    "\n",
    "#### Burada depth değeri \"78.2\" değerinden büyük ama, outlier olarak belirlenmeyen bir değer olmasına rağmen bu değer neden outlier olarak belirlenmiş gibi bir soru sorabiliriz. Buna cevap olarak değişkenler arasında bir uyumsuzluk olmuş olabilir cevabı verilebilir. Örneğin depth değeri çok fazla ama fiyat buna göre ortalamanın altında diye bir yorum getirilebilir.\n",
    "\n",
    "\n",
    "    * İkinci satırdaki verilerin ortalamaya olan uzaklığına bir bakalım;\n",
    "        * z değeri maksimum olan gözlem dolayısıyla outlier olması mantıklı diyebiliriz."
   ]
  },
  {
   "cell_type": "code",
   "execution_count": 135,
   "metadata": {},
   "outputs": [
    {
     "data": {
      "text/plain": [
       "Int64Index([41918, 48410, 49189], dtype='int64')"
      ]
     },
     "execution_count": 135,
     "metadata": {},
     "output_type": "execute_result"
    }
   ],
   "source": [
    "# Şimdi aykırı değerleri bulduk bunlar için ne yapabiliriz? Silebiliriz ya da baskılayabiliriz. \n",
    "# Bu aykırı değerlerin indekslerini getirelim; \n",
    "df[df_scores < th].index"
   ]
  },
  {
   "cell_type": "code",
   "execution_count": 136,
   "metadata": {},
   "outputs": [
    {
     "data": {
      "text/html": [
       "<div>\n",
       "<style scoped>\n",
       "    .dataframe tbody tr th:only-of-type {\n",
       "        vertical-align: middle;\n",
       "    }\n",
       "\n",
       "    .dataframe tbody tr th {\n",
       "        vertical-align: top;\n",
       "    }\n",
       "\n",
       "    .dataframe thead th {\n",
       "        text-align: right;\n",
       "    }\n",
       "</style>\n",
       "<table border=\"1\" class=\"dataframe\">\n",
       "  <thead>\n",
       "    <tr style=\"text-align: right;\">\n",
       "      <th></th>\n",
       "      <th>carat</th>\n",
       "      <th>depth</th>\n",
       "      <th>table</th>\n",
       "      <th>price</th>\n",
       "      <th>x</th>\n",
       "      <th>y</th>\n",
       "      <th>z</th>\n",
       "    </tr>\n",
       "  </thead>\n",
       "  <tbody>\n",
       "  </tbody>\n",
       "</table>\n",
       "</div>"
      ],
      "text/plain": [
       "Empty DataFrame\n",
       "Columns: [carat, depth, table, price, x, y, z]\n",
       "Index: []"
      ]
     },
     "execution_count": 136,
     "metadata": {},
     "output_type": "execute_result"
    }
   ],
   "source": [
    "# Bu verileri df'den silebiliriz;\n",
    "\n",
    "df[df_scores < th].drop(axis=0, labels=df[df_scores < th].index)"
   ]
  },
  {
   "cell_type": "code",
   "execution_count": 137,
   "metadata": {},
   "outputs": [],
   "source": [
    "# Baskılama yöntemi denemek istersek?\n",
    "\n",
    "# Baskılamak istersek karşımıza şöyle bir sorun çıkmaktadır, biz hangi değeri hangi değer ile baskılayacağız.\n",
    "# Yerine ortalama bir gözlemin değerini getirebiliriz. Lakin bu da duplicate oluşturabilir.\n",
    "# Bu seneryo için 3 adet outlier olması 53490 değer arasında pek de önemli bir sayı olmadığı için direk silebiliriz.\n",
    "# Yüzlerce aykırı değer olursa, yüzlerce değeri duplice etmiş olacağız. "
   ]
  },
  {
   "attachments": {},
   "cell_type": "markdown",
   "metadata": {},
   "source": [
    "### ❗️ Önemli Not \n",
    "\n",
    "Ağaç yöntemlerinde veriye müdahale edilmesini pek tercih etmiyoruz. Ağaç yöntemi uygulanacak oldunduğunda yukarıdaki gibi tek değişkenli outlier tespitinde uç noktalardan bu kadar da olmaz diyebileceğimiz ([%2.5 , % 97,5] veya [%1 , % 99]) noktalardan sonraki gözlemlerin sadece ilgili sütunlarını baskılamayı tercih edebiliriz.\n",
    "\n",
    "Peki LOF yöntemi bizim ne zaman işimize yarayacak diyebiliriz?\n",
    "\n",
    "LOF yöntemi tam da buradaki gibi göz ardı edebileceğimiz, sildiğimizde bir sorun teşkil etmeyecek zamanlarda kullanılabilir. Eğer ki LOF yöntemi ile yüzlerce veya binlerce silindiğinde veride kayıp oluşturacak veya duplicate olduğunda verimizi bozacak durumlarda kullanılmaz."
   ]
  }
 ],
 "metadata": {
  "kernelspec": {
   "display_name": "Python 3",
   "language": "python",
   "name": "python3"
  },
  "language_info": {
   "codemirror_mode": {
    "name": "ipython",
    "version": 3
   },
   "file_extension": ".py",
   "mimetype": "text/x-python",
   "name": "python",
   "nbconvert_exporter": "python",
   "pygments_lexer": "ipython3",
   "version": "3.11.1"
  },
  "orig_nbformat": 4,
  "vscode": {
   "interpreter": {
    "hash": "aee8b7b246df8f9039afb4144a1f6fd8d2ca17a180786b69acc140d282b71a49"
   }
  }
 },
 "nbformat": 4,
 "nbformat_minor": 2
}
